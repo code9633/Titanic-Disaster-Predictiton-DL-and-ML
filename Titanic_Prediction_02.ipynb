{
  "nbformat": 4,
  "nbformat_minor": 0,
  "metadata": {
    "colab": {
      "provenance": []
    },
    "kernelspec": {
      "name": "python3",
      "display_name": "Python 3"
    },
    "language_info": {
      "name": "python"
    },
    "accelerator": "TPU",
    "gpuClass": "standard"
  },
  "cells": [
    {
      "cell_type": "code",
      "execution_count": null,
      "metadata": {
        "id": "5holHPq_KI3E"
      },
      "outputs": [],
      "source": [
        "import pandas as pd\n",
        "import numpy as np\n",
        "import matplotlib.pyplot as plt\n",
        "\n",
        "titanicdata = pd.read_csv('train.csv')"
      ]
    },
    {
      "cell_type": "code",
      "source": [
        "titanicdata.head()"
      ],
      "metadata": {
        "id": "Y3b6aqg5MN3P",
        "colab": {
          "base_uri": "https://localhost:8080/",
          "height": 206
        },
        "outputId": "da775970-1bd3-4e29-83e4-eda252fc983d"
      },
      "execution_count": null,
      "outputs": [
        {
          "output_type": "execute_result",
          "data": {
            "text/plain": [
              "   PassengerId  Survived  Pclass  \\\n",
              "0            1         0       3   \n",
              "1            2         1       1   \n",
              "2            3         1       3   \n",
              "3            4         1       1   \n",
              "4            5         0       3   \n",
              "\n",
              "                                                Name     Sex   Age  SibSp  \\\n",
              "0                            Braund, Mr. Owen Harris    male  22.0      1   \n",
              "1  Cumings, Mrs. John Bradley (Florence Briggs Th...  female  38.0      1   \n",
              "2                             Heikkinen, Miss. Laina  female  26.0      0   \n",
              "3       Futrelle, Mrs. Jacques Heath (Lily May Peel)  female  35.0      1   \n",
              "4                           Allen, Mr. William Henry    male  35.0      0   \n",
              "\n",
              "   Parch            Ticket     Fare Cabin Embarked  \n",
              "0      0         A/5 21171   7.2500   NaN        S  \n",
              "1      0          PC 17599  71.2833   C85        C  \n",
              "2      0  STON/O2. 3101282   7.9250   NaN        S  \n",
              "3      0            113803  53.1000  C123        S  \n",
              "4      0            373450   8.0500   NaN        S  "
            ],
            "text/html": [
              "\n",
              "  <div id=\"df-cdae5478-72f5-43db-8067-7ea7483ae454\">\n",
              "    <div class=\"colab-df-container\">\n",
              "      <div>\n",
              "<style scoped>\n",
              "    .dataframe tbody tr th:only-of-type {\n",
              "        vertical-align: middle;\n",
              "    }\n",
              "\n",
              "    .dataframe tbody tr th {\n",
              "        vertical-align: top;\n",
              "    }\n",
              "\n",
              "    .dataframe thead th {\n",
              "        text-align: right;\n",
              "    }\n",
              "</style>\n",
              "<table border=\"1\" class=\"dataframe\">\n",
              "  <thead>\n",
              "    <tr style=\"text-align: right;\">\n",
              "      <th></th>\n",
              "      <th>PassengerId</th>\n",
              "      <th>Survived</th>\n",
              "      <th>Pclass</th>\n",
              "      <th>Name</th>\n",
              "      <th>Sex</th>\n",
              "      <th>Age</th>\n",
              "      <th>SibSp</th>\n",
              "      <th>Parch</th>\n",
              "      <th>Ticket</th>\n",
              "      <th>Fare</th>\n",
              "      <th>Cabin</th>\n",
              "      <th>Embarked</th>\n",
              "    </tr>\n",
              "  </thead>\n",
              "  <tbody>\n",
              "    <tr>\n",
              "      <th>0</th>\n",
              "      <td>1</td>\n",
              "      <td>0</td>\n",
              "      <td>3</td>\n",
              "      <td>Braund, Mr. Owen Harris</td>\n",
              "      <td>male</td>\n",
              "      <td>22.0</td>\n",
              "      <td>1</td>\n",
              "      <td>0</td>\n",
              "      <td>A/5 21171</td>\n",
              "      <td>7.2500</td>\n",
              "      <td>NaN</td>\n",
              "      <td>S</td>\n",
              "    </tr>\n",
              "    <tr>\n",
              "      <th>1</th>\n",
              "      <td>2</td>\n",
              "      <td>1</td>\n",
              "      <td>1</td>\n",
              "      <td>Cumings, Mrs. John Bradley (Florence Briggs Th...</td>\n",
              "      <td>female</td>\n",
              "      <td>38.0</td>\n",
              "      <td>1</td>\n",
              "      <td>0</td>\n",
              "      <td>PC 17599</td>\n",
              "      <td>71.2833</td>\n",
              "      <td>C85</td>\n",
              "      <td>C</td>\n",
              "    </tr>\n",
              "    <tr>\n",
              "      <th>2</th>\n",
              "      <td>3</td>\n",
              "      <td>1</td>\n",
              "      <td>3</td>\n",
              "      <td>Heikkinen, Miss. Laina</td>\n",
              "      <td>female</td>\n",
              "      <td>26.0</td>\n",
              "      <td>0</td>\n",
              "      <td>0</td>\n",
              "      <td>STON/O2. 3101282</td>\n",
              "      <td>7.9250</td>\n",
              "      <td>NaN</td>\n",
              "      <td>S</td>\n",
              "    </tr>\n",
              "    <tr>\n",
              "      <th>3</th>\n",
              "      <td>4</td>\n",
              "      <td>1</td>\n",
              "      <td>1</td>\n",
              "      <td>Futrelle, Mrs. Jacques Heath (Lily May Peel)</td>\n",
              "      <td>female</td>\n",
              "      <td>35.0</td>\n",
              "      <td>1</td>\n",
              "      <td>0</td>\n",
              "      <td>113803</td>\n",
              "      <td>53.1000</td>\n",
              "      <td>C123</td>\n",
              "      <td>S</td>\n",
              "    </tr>\n",
              "    <tr>\n",
              "      <th>4</th>\n",
              "      <td>5</td>\n",
              "      <td>0</td>\n",
              "      <td>3</td>\n",
              "      <td>Allen, Mr. William Henry</td>\n",
              "      <td>male</td>\n",
              "      <td>35.0</td>\n",
              "      <td>0</td>\n",
              "      <td>0</td>\n",
              "      <td>373450</td>\n",
              "      <td>8.0500</td>\n",
              "      <td>NaN</td>\n",
              "      <td>S</td>\n",
              "    </tr>\n",
              "  </tbody>\n",
              "</table>\n",
              "</div>\n",
              "      <button class=\"colab-df-convert\" onclick=\"convertToInteractive('df-cdae5478-72f5-43db-8067-7ea7483ae454')\"\n",
              "              title=\"Convert this dataframe to an interactive table.\"\n",
              "              style=\"display:none;\">\n",
              "        \n",
              "  <svg xmlns=\"http://www.w3.org/2000/svg\" height=\"24px\"viewBox=\"0 0 24 24\"\n",
              "       width=\"24px\">\n",
              "    <path d=\"M0 0h24v24H0V0z\" fill=\"none\"/>\n",
              "    <path d=\"M18.56 5.44l.94 2.06.94-2.06 2.06-.94-2.06-.94-.94-2.06-.94 2.06-2.06.94zm-11 1L8.5 8.5l.94-2.06 2.06-.94-2.06-.94L8.5 2.5l-.94 2.06-2.06.94zm10 10l.94 2.06.94-2.06 2.06-.94-2.06-.94-.94-2.06-.94 2.06-2.06.94z\"/><path d=\"M17.41 7.96l-1.37-1.37c-.4-.4-.92-.59-1.43-.59-.52 0-1.04.2-1.43.59L10.3 9.45l-7.72 7.72c-.78.78-.78 2.05 0 2.83L4 21.41c.39.39.9.59 1.41.59.51 0 1.02-.2 1.41-.59l7.78-7.78 2.81-2.81c.8-.78.8-2.07 0-2.86zM5.41 20L4 18.59l7.72-7.72 1.47 1.35L5.41 20z\"/>\n",
              "  </svg>\n",
              "      </button>\n",
              "      \n",
              "  <style>\n",
              "    .colab-df-container {\n",
              "      display:flex;\n",
              "      flex-wrap:wrap;\n",
              "      gap: 12px;\n",
              "    }\n",
              "\n",
              "    .colab-df-convert {\n",
              "      background-color: #E8F0FE;\n",
              "      border: none;\n",
              "      border-radius: 50%;\n",
              "      cursor: pointer;\n",
              "      display: none;\n",
              "      fill: #1967D2;\n",
              "      height: 32px;\n",
              "      padding: 0 0 0 0;\n",
              "      width: 32px;\n",
              "    }\n",
              "\n",
              "    .colab-df-convert:hover {\n",
              "      background-color: #E2EBFA;\n",
              "      box-shadow: 0px 1px 2px rgba(60, 64, 67, 0.3), 0px 1px 3px 1px rgba(60, 64, 67, 0.15);\n",
              "      fill: #174EA6;\n",
              "    }\n",
              "\n",
              "    [theme=dark] .colab-df-convert {\n",
              "      background-color: #3B4455;\n",
              "      fill: #D2E3FC;\n",
              "    }\n",
              "\n",
              "    [theme=dark] .colab-df-convert:hover {\n",
              "      background-color: #434B5C;\n",
              "      box-shadow: 0px 1px 3px 1px rgba(0, 0, 0, 0.15);\n",
              "      filter: drop-shadow(0px 1px 2px rgba(0, 0, 0, 0.3));\n",
              "      fill: #FFFFFF;\n",
              "    }\n",
              "  </style>\n",
              "\n",
              "      <script>\n",
              "        const buttonEl =\n",
              "          document.querySelector('#df-cdae5478-72f5-43db-8067-7ea7483ae454 button.colab-df-convert');\n",
              "        buttonEl.style.display =\n",
              "          google.colab.kernel.accessAllowed ? 'block' : 'none';\n",
              "\n",
              "        async function convertToInteractive(key) {\n",
              "          const element = document.querySelector('#df-cdae5478-72f5-43db-8067-7ea7483ae454');\n",
              "          const dataTable =\n",
              "            await google.colab.kernel.invokeFunction('convertToInteractive',\n",
              "                                                     [key], {});\n",
              "          if (!dataTable) return;\n",
              "\n",
              "          const docLinkHtml = 'Like what you see? Visit the ' +\n",
              "            '<a target=\"_blank\" href=https://colab.research.google.com/notebooks/data_table.ipynb>data table notebook</a>'\n",
              "            + ' to learn more about interactive tables.';\n",
              "          element.innerHTML = '';\n",
              "          dataTable['output_type'] = 'display_data';\n",
              "          await google.colab.output.renderOutput(dataTable, element);\n",
              "          const docLink = document.createElement('div');\n",
              "          docLink.innerHTML = docLinkHtml;\n",
              "          element.appendChild(docLink);\n",
              "        }\n",
              "      </script>\n",
              "    </div>\n",
              "  </div>\n",
              "  "
            ]
          },
          "metadata": {},
          "execution_count": 3
        }
      ]
    },
    {
      "cell_type": "code",
      "source": [
        "titanicdata[\"Embarked\"].value_counts()"
      ],
      "metadata": {
        "colab": {
          "base_uri": "https://localhost:8080/"
        },
        "id": "uKDnzsVNU74v",
        "outputId": "99864f96-0285-4d0c-ab0f-38aeac89b743"
      },
      "execution_count": null,
      "outputs": [
        {
          "output_type": "execute_result",
          "data": {
            "text/plain": [
              "S    644\n",
              "C    168\n",
              "Q     77\n",
              "Name: Embarked, dtype: int64"
            ]
          },
          "metadata": {},
          "execution_count": 4
        }
      ]
    },
    {
      "cell_type": "code",
      "source": [
        "titanicdata.describe()"
      ],
      "metadata": {
        "colab": {
          "base_uri": "https://localhost:8080/",
          "height": 300
        },
        "id": "_CphoFOuLkry",
        "outputId": "54856ad5-d182-447d-fa9e-3969bb5226fa"
      },
      "execution_count": null,
      "outputs": [
        {
          "output_type": "execute_result",
          "data": {
            "text/plain": [
              "       PassengerId    Survived      Pclass         Age       SibSp  \\\n",
              "count   891.000000  891.000000  891.000000  714.000000  891.000000   \n",
              "mean    446.000000    0.383838    2.308642   29.699118    0.523008   \n",
              "std     257.353842    0.486592    0.836071   14.526497    1.102743   \n",
              "min       1.000000    0.000000    1.000000    0.420000    0.000000   \n",
              "25%     223.500000    0.000000    2.000000   20.125000    0.000000   \n",
              "50%     446.000000    0.000000    3.000000   28.000000    0.000000   \n",
              "75%     668.500000    1.000000    3.000000   38.000000    1.000000   \n",
              "max     891.000000    1.000000    3.000000   80.000000    8.000000   \n",
              "\n",
              "            Parch        Fare  \n",
              "count  891.000000  891.000000  \n",
              "mean     0.381594   32.204208  \n",
              "std      0.806057   49.693429  \n",
              "min      0.000000    0.000000  \n",
              "25%      0.000000    7.910400  \n",
              "50%      0.000000   14.454200  \n",
              "75%      0.000000   31.000000  \n",
              "max      6.000000  512.329200  "
            ],
            "text/html": [
              "\n",
              "  <div id=\"df-76427fd6-4099-4dda-97b0-421485d076d6\">\n",
              "    <div class=\"colab-df-container\">\n",
              "      <div>\n",
              "<style scoped>\n",
              "    .dataframe tbody tr th:only-of-type {\n",
              "        vertical-align: middle;\n",
              "    }\n",
              "\n",
              "    .dataframe tbody tr th {\n",
              "        vertical-align: top;\n",
              "    }\n",
              "\n",
              "    .dataframe thead th {\n",
              "        text-align: right;\n",
              "    }\n",
              "</style>\n",
              "<table border=\"1\" class=\"dataframe\">\n",
              "  <thead>\n",
              "    <tr style=\"text-align: right;\">\n",
              "      <th></th>\n",
              "      <th>PassengerId</th>\n",
              "      <th>Survived</th>\n",
              "      <th>Pclass</th>\n",
              "      <th>Age</th>\n",
              "      <th>SibSp</th>\n",
              "      <th>Parch</th>\n",
              "      <th>Fare</th>\n",
              "    </tr>\n",
              "  </thead>\n",
              "  <tbody>\n",
              "    <tr>\n",
              "      <th>count</th>\n",
              "      <td>891.000000</td>\n",
              "      <td>891.000000</td>\n",
              "      <td>891.000000</td>\n",
              "      <td>714.000000</td>\n",
              "      <td>891.000000</td>\n",
              "      <td>891.000000</td>\n",
              "      <td>891.000000</td>\n",
              "    </tr>\n",
              "    <tr>\n",
              "      <th>mean</th>\n",
              "      <td>446.000000</td>\n",
              "      <td>0.383838</td>\n",
              "      <td>2.308642</td>\n",
              "      <td>29.699118</td>\n",
              "      <td>0.523008</td>\n",
              "      <td>0.381594</td>\n",
              "      <td>32.204208</td>\n",
              "    </tr>\n",
              "    <tr>\n",
              "      <th>std</th>\n",
              "      <td>257.353842</td>\n",
              "      <td>0.486592</td>\n",
              "      <td>0.836071</td>\n",
              "      <td>14.526497</td>\n",
              "      <td>1.102743</td>\n",
              "      <td>0.806057</td>\n",
              "      <td>49.693429</td>\n",
              "    </tr>\n",
              "    <tr>\n",
              "      <th>min</th>\n",
              "      <td>1.000000</td>\n",
              "      <td>0.000000</td>\n",
              "      <td>1.000000</td>\n",
              "      <td>0.420000</td>\n",
              "      <td>0.000000</td>\n",
              "      <td>0.000000</td>\n",
              "      <td>0.000000</td>\n",
              "    </tr>\n",
              "    <tr>\n",
              "      <th>25%</th>\n",
              "      <td>223.500000</td>\n",
              "      <td>0.000000</td>\n",
              "      <td>2.000000</td>\n",
              "      <td>20.125000</td>\n",
              "      <td>0.000000</td>\n",
              "      <td>0.000000</td>\n",
              "      <td>7.910400</td>\n",
              "    </tr>\n",
              "    <tr>\n",
              "      <th>50%</th>\n",
              "      <td>446.000000</td>\n",
              "      <td>0.000000</td>\n",
              "      <td>3.000000</td>\n",
              "      <td>28.000000</td>\n",
              "      <td>0.000000</td>\n",
              "      <td>0.000000</td>\n",
              "      <td>14.454200</td>\n",
              "    </tr>\n",
              "    <tr>\n",
              "      <th>75%</th>\n",
              "      <td>668.500000</td>\n",
              "      <td>1.000000</td>\n",
              "      <td>3.000000</td>\n",
              "      <td>38.000000</td>\n",
              "      <td>1.000000</td>\n",
              "      <td>0.000000</td>\n",
              "      <td>31.000000</td>\n",
              "    </tr>\n",
              "    <tr>\n",
              "      <th>max</th>\n",
              "      <td>891.000000</td>\n",
              "      <td>1.000000</td>\n",
              "      <td>3.000000</td>\n",
              "      <td>80.000000</td>\n",
              "      <td>8.000000</td>\n",
              "      <td>6.000000</td>\n",
              "      <td>512.329200</td>\n",
              "    </tr>\n",
              "  </tbody>\n",
              "</table>\n",
              "</div>\n",
              "      <button class=\"colab-df-convert\" onclick=\"convertToInteractive('df-76427fd6-4099-4dda-97b0-421485d076d6')\"\n",
              "              title=\"Convert this dataframe to an interactive table.\"\n",
              "              style=\"display:none;\">\n",
              "        \n",
              "  <svg xmlns=\"http://www.w3.org/2000/svg\" height=\"24px\"viewBox=\"0 0 24 24\"\n",
              "       width=\"24px\">\n",
              "    <path d=\"M0 0h24v24H0V0z\" fill=\"none\"/>\n",
              "    <path d=\"M18.56 5.44l.94 2.06.94-2.06 2.06-.94-2.06-.94-.94-2.06-.94 2.06-2.06.94zm-11 1L8.5 8.5l.94-2.06 2.06-.94-2.06-.94L8.5 2.5l-.94 2.06-2.06.94zm10 10l.94 2.06.94-2.06 2.06-.94-2.06-.94-.94-2.06-.94 2.06-2.06.94z\"/><path d=\"M17.41 7.96l-1.37-1.37c-.4-.4-.92-.59-1.43-.59-.52 0-1.04.2-1.43.59L10.3 9.45l-7.72 7.72c-.78.78-.78 2.05 0 2.83L4 21.41c.39.39.9.59 1.41.59.51 0 1.02-.2 1.41-.59l7.78-7.78 2.81-2.81c.8-.78.8-2.07 0-2.86zM5.41 20L4 18.59l7.72-7.72 1.47 1.35L5.41 20z\"/>\n",
              "  </svg>\n",
              "      </button>\n",
              "      \n",
              "  <style>\n",
              "    .colab-df-container {\n",
              "      display:flex;\n",
              "      flex-wrap:wrap;\n",
              "      gap: 12px;\n",
              "    }\n",
              "\n",
              "    .colab-df-convert {\n",
              "      background-color: #E8F0FE;\n",
              "      border: none;\n",
              "      border-radius: 50%;\n",
              "      cursor: pointer;\n",
              "      display: none;\n",
              "      fill: #1967D2;\n",
              "      height: 32px;\n",
              "      padding: 0 0 0 0;\n",
              "      width: 32px;\n",
              "    }\n",
              "\n",
              "    .colab-df-convert:hover {\n",
              "      background-color: #E2EBFA;\n",
              "      box-shadow: 0px 1px 2px rgba(60, 64, 67, 0.3), 0px 1px 3px 1px rgba(60, 64, 67, 0.15);\n",
              "      fill: #174EA6;\n",
              "    }\n",
              "\n",
              "    [theme=dark] .colab-df-convert {\n",
              "      background-color: #3B4455;\n",
              "      fill: #D2E3FC;\n",
              "    }\n",
              "\n",
              "    [theme=dark] .colab-df-convert:hover {\n",
              "      background-color: #434B5C;\n",
              "      box-shadow: 0px 1px 3px 1px rgba(0, 0, 0, 0.15);\n",
              "      filter: drop-shadow(0px 1px 2px rgba(0, 0, 0, 0.3));\n",
              "      fill: #FFFFFF;\n",
              "    }\n",
              "  </style>\n",
              "\n",
              "      <script>\n",
              "        const buttonEl =\n",
              "          document.querySelector('#df-76427fd6-4099-4dda-97b0-421485d076d6 button.colab-df-convert');\n",
              "        buttonEl.style.display =\n",
              "          google.colab.kernel.accessAllowed ? 'block' : 'none';\n",
              "\n",
              "        async function convertToInteractive(key) {\n",
              "          const element = document.querySelector('#df-76427fd6-4099-4dda-97b0-421485d076d6');\n",
              "          const dataTable =\n",
              "            await google.colab.kernel.invokeFunction('convertToInteractive',\n",
              "                                                     [key], {});\n",
              "          if (!dataTable) return;\n",
              "\n",
              "          const docLinkHtml = 'Like what you see? Visit the ' +\n",
              "            '<a target=\"_blank\" href=https://colab.research.google.com/notebooks/data_table.ipynb>data table notebook</a>'\n",
              "            + ' to learn more about interactive tables.';\n",
              "          element.innerHTML = '';\n",
              "          dataTable['output_type'] = 'display_data';\n",
              "          await google.colab.output.renderOutput(dataTable, element);\n",
              "          const docLink = document.createElement('div');\n",
              "          docLink.innerHTML = docLinkHtml;\n",
              "          element.appendChild(docLink);\n",
              "        }\n",
              "      </script>\n",
              "    </div>\n",
              "  </div>\n",
              "  "
            ]
          },
          "metadata": {},
          "execution_count": 5
        }
      ]
    },
    {
      "cell_type": "code",
      "source": [
        "# look at the corelation of the dataset\n",
        "\n",
        "import seaborn as sns\n",
        "\n",
        "sns.heatmap(titanicdata.corr(), cmap = \"YlGnBu\", annot = True)\n",
        "plt.show()"
      ],
      "metadata": {
        "colab": {
          "base_uri": "https://localhost:8080/",
          "height": 560
        },
        "id": "U2kVgFSnL029",
        "outputId": "b7384e57-5cc4-4df1-b132-88258df88395"
      },
      "execution_count": null,
      "outputs": [
        {
          "output_type": "stream",
          "name": "stderr",
          "text": [
            "<ipython-input-6-9cf39056ed23>:5: FutureWarning: The default value of numeric_only in DataFrame.corr is deprecated. In a future version, it will default to False. Select only valid columns or specify the value of numeric_only to silence this warning.\n",
            "  sns.heatmap(titanicdata.corr(), cmap = \"YlGnBu\", annot = True)\n"
          ]
        },
        {
          "output_type": "display_data",
          "data": {
            "text/plain": [
              "<Figure size 640x480 with 2 Axes>"
            ],
            "image/png": "[encoded data removed]"
          },
          "metadata": {}
        }
      ]
    },
    {
      "cell_type": "code",
      "source": [
        "from sklearn.model_selection import StratifiedShuffleSplit\n",
        "\n",
        "split = StratifiedShuffleSplit(n_splits = 1, test_size = 0.20)\n",
        "for train_indices, test_indices in split.split(titanicdata, titanicdata[['Survived','Pclass', 'Sex']]):\n",
        "  start_train_set = titanicdata.loc[train_indices]\n",
        "  start_test_set = titanicdata.loc[test_indices]"
      ],
      "metadata": {
        "id": "BXoiI4WLNzJ4"
      },
      "execution_count": null,
      "outputs": []
    },
    {
      "cell_type": "code",
      "source": [
        "plt.subplot(1,2,1)\n",
        "start_train_set[\"Survived\"].hist()\n",
        "start_train_set[\"Pclass\"].hist()\n",
        "\n",
        "plt.subplot(1,2,2)\n",
        "start_test_set[\"Survived\"].hist()\n",
        "start_test_set[\"Pclass\"].hist()\n",
        "\n",
        "plt.show()\n",
        "\n",
        "\n",
        "# check the similar distribution in train dataset and test dataset"
      ],
      "metadata": {
        "colab": {
          "base_uri": "https://localhost:8080/",
          "height": 430
        },
        "id": "1eAoJ9SpU89K",
        "outputId": "e4dc1906-2c32-488d-f89d-538994f703ec"
      },
      "execution_count": null,
      "outputs": [
        {
          "output_type": "display_data",
          "data": {
            "text/plain": [
              "<Figure size 640x480 with 2 Axes>"
            ],
            "image/png": "[encoded data removed]"
          },
          "metadata": {}
        }
      ]
    },
    {
      "cell_type": "code",
      "source": [
        "# when comparing the above both graph have similar distribution\n",
        "\n",
        "start_train_set.info()"
      ],
      "metadata": {
        "colab": {
          "base_uri": "https://localhost:8080/"
        },
        "id": "R7SokHhhWVAO",
        "outputId": "a6675b0c-6b08-426b-e8b1-f06d46202637"
      },
      "execution_count": null,
      "outputs": [
        {
          "output_type": "stream",
          "name": "stdout",
          "text": [
            "<class 'pandas.core.frame.DataFrame'>\n",
            "Int64Index: 712 entries, 0 to 855\n",
            "Data columns (total 12 columns):\n",
            " #   Column       Non-Null Count  Dtype  \n",
            "---  ------       --------------  -----  \n",
            " 0   PassengerId  712 non-null    int64  \n",
            " 1   Survived     712 non-null    int64  \n",
            " 2   Pclass       712 non-null    int64  \n",
            " 3   Name         712 non-null    object \n",
            " 4   Sex          712 non-null    object \n",
            " 5   Age          568 non-null    float64\n",
            " 6   SibSp        712 non-null    int64  \n",
            " 7   Parch        712 non-null    int64  \n",
            " 8   Ticket       712 non-null    object \n",
            " 9   Fare         712 non-null    float64\n",
            " 10  Cabin        159 non-null    object \n",
            " 11  Embarked     711 non-null    object \n",
            "dtypes: float64(2), int64(5), object(5)\n",
            "memory usage: 72.3+ KB\n"
          ]
        }
      ]
    },
    {
      "cell_type": "code",
      "source": [
        "from sklearn.base import BaseEstimator, TransformerMixin\n",
        "from sklearn.impute import SimpleImputer  # Impute basically mean consider the missing values we have fill them and how to do them\n",
        "\n",
        "class AgeImputer(BaseEstimator, TransformerMixin):\n",
        "\n",
        "  def fit(self, x, y = None):\n",
        "    return self\n",
        "\n",
        "  def transform(self, x):\n",
        "    imputer = SimpleImputer(strategy = \"mean\")\n",
        "    x['Age'] = imputer.fit_transform(x[[\"Age\"]])\n",
        "    return x\n"
      ],
      "metadata": {
        "id": "pHc2e7LBX9l0"
      },
      "execution_count": null,
      "outputs": []
    },
    {
      "cell_type": "code",
      "source": [
        "from sklearn.preprocessing import OneHotEncoder\n",
        "\n",
        "class FeatureEncoder(BaseEstimator,TransformerMixin):\n",
        "\n",
        "  def fit(self, x, y = None):\n",
        "    return self\n",
        "\n",
        "  def transform(self, x):\n",
        "    encoder = OneHotEncoder()\n",
        "    matrix = encoder.fit_transform(x[[\"Embarked\"]]).toarray()\n",
        "\n",
        "    column_names = ['C', 'S', 'Q', 'N']\n",
        "\n",
        "    for i in range(len(matrix.T)):\n",
        "      x[column_names[i]] = matrix.T[i]\n",
        "\n",
        "    matrix = encoder.fit_transform(x[['Sex']]).toarray()\n",
        "\n",
        "    column_names = [\"Female\", \"Male\"]\n",
        "\n",
        "    for i in range(len(matrix.T)):\n",
        "      x[column_names[i]] = matrix.T[i]\n",
        "\n",
        "    return x\n"
      ],
      "metadata": {
        "id": "Jeb3Qv0Ta6N4"
      },
      "execution_count": null,
      "outputs": []
    },
    {
      "cell_type": "code",
      "source": [
        "class FeatureDropper(BaseEstimator, TransformerMixin):\n",
        "\n",
        "  def fit(self, x, y = None):\n",
        "    return self\n",
        "\n",
        "  def transform(self, x):\n",
        "    return x.drop([\"Embarked\", \"Name\", \"Ticket\", \"Cabin\", \"Sex\",\"N\"], axis = 1, errors = \"ignore\")"
      ],
      "metadata": {
        "id": "-29QVDV-etRD"
      },
      "execution_count": null,
      "outputs": []
    },
    {
      "cell_type": "code",
      "source": [
        "# pipeline\n",
        "\n",
        "from sklearn.pipeline import Pipeline\n",
        "\n",
        "pipeline = Pipeline([(\"ageimputer\", AgeImputer()),\n",
        "                     (\"featureencoder\", FeatureEncoder()),\n",
        "                     (\"featuredropper\", FeatureDropper())])\n"
      ],
      "metadata": {
        "id": "ne5NvazIgQCA"
      },
      "execution_count": null,
      "outputs": []
    },
    {
      "cell_type": "code",
      "source": [
        "start_train_set = pipeline.fit_transform(start_train_set)"
      ],
      "metadata": {
        "id": "57xWZl7piaH0"
      },
      "execution_count": null,
      "outputs": []
    },
    {
      "cell_type": "code",
      "source": [
        "start_train_set"
      ],
      "metadata": {
        "colab": {
          "base_uri": "https://localhost:8080/",
          "height": 423
        },
        "id": "x6XMY9tpjL25",
        "outputId": "75875cf5-7152-454c-af97-aca549188ac0"
      },
      "execution_count": null,
      "outputs": [
        {
          "output_type": "execute_result",
          "data": {
            "text/plain": [
              "     PassengerId  Survived  Pclass        Age  SibSp  Parch     Fare    C  \\\n",
              "0              1         0       3  22.000000      1      0   7.2500  0.0   \n",
              "602          603         0       1  29.866637      0      0  42.4000  0.0   \n",
              "246          247         0       3  25.000000      0      0   7.7750  0.0   \n",
              "865          866         1       2  42.000000      0      0  13.0000  0.0   \n",
              "671          672         0       1  31.000000      1      0  52.0000  0.0   \n",
              "..           ...       ...     ...        ...    ...    ...      ...  ...   \n",
              "310          311         1       1  24.000000      0      0  83.1583  1.0   \n",
              "239          240         0       2  33.000000      0      0  12.2750  0.0   \n",
              "481          482         0       2  29.866637      0      0   0.0000  0.0   \n",
              "240          241         0       3  29.866637      1      0  14.4542  1.0   \n",
              "855          856         1       3  18.000000      0      1   9.3500  0.0   \n",
              "\n",
              "       S    Q  Female  Male  \n",
              "0    0.0  1.0     0.0   1.0  \n",
              "602  0.0  1.0     0.0   1.0  \n",
              "246  0.0  1.0     1.0   0.0  \n",
              "865  0.0  1.0     1.0   0.0  \n",
              "671  0.0  1.0     0.0   1.0  \n",
              "..   ...  ...     ...   ...  \n",
              "310  0.0  0.0     1.0   0.0  \n",
              "239  0.0  1.0     0.0   1.0  \n",
              "481  0.0  1.0     0.0   1.0  \n",
              "240  0.0  0.0     1.0   0.0  \n",
              "855  0.0  1.0     1.0   0.0  \n",
              "\n",
              "[712 rows x 12 columns]"
            ],
            "text/html": [
              "\n",
              "  <div id=\"df-7e3d2c9b-60fd-4db2-9c09-797a89a56a30\">\n",
              "    <div class=\"colab-df-container\">\n",
              "      <div>\n",
              "<style scoped>\n",
              "    .dataframe tbody tr th:only-of-type {\n",
              "        vertical-align: middle;\n",
              "    }\n",
              "\n",
              "    .dataframe tbody tr th {\n",
              "        vertical-align: top;\n",
              "    }\n",
              "\n",
              "    .dataframe thead th {\n",
              "        text-align: right;\n",
              "    }\n",
              "</style>\n",
              "<table border=\"1\" class=\"dataframe\">\n",
              "  <thead>\n",
              "    <tr style=\"text-align: right;\">\n",
              "      <th></th>\n",
              "      <th>PassengerId</th>\n",
              "      <th>Survived</th>\n",
              "      <th>Pclass</th>\n",
              "      <th>Age</th>\n",
              "      <th>SibSp</th>\n",
              "      <th>Parch</th>\n",
              "      <th>Fare</th>\n",
              "      <th>C</th>\n",
              "      <th>S</th>\n",
              "      <th>Q</th>\n",
              "      <th>Female</th>\n",
              "      <th>Male</th>\n",
              "    </tr>\n",
              "  </thead>\n",
              "  <tbody>\n",
              "    <tr>\n",
              "      <th>0</th>\n",
              "      <td>1</td>\n",
              "      <td>0</td>\n",
              "      <td>3</td>\n",
              "      <td>22.000000</td>\n",
              "      <td>1</td>\n",
              "      <td>0</td>\n",
              "      <td>7.2500</td>\n",
              "      <td>0.0</td>\n",
              "      <td>0.0</td>\n",
              "      <td>1.0</td>\n",
              "      <td>0.0</td>\n",
              "      <td>1.0</td>\n",
              "    </tr>\n",
              "    <tr>\n",
              "      <th>602</th>\n",
              "      <td>603</td>\n",
              "      <td>0</td>\n",
              "      <td>1</td>\n",
              "      <td>29.866637</td>\n",
              "      <td>0</td>\n",
              "      <td>0</td>\n",
              "      <td>42.4000</td>\n",
              "      <td>0.0</td>\n",
              "      <td>0.0</td>\n",
              "      <td>1.0</td>\n",
              "      <td>0.0</td>\n",
              "      <td>1.0</td>\n",
              "    </tr>\n",
              "    <tr>\n",
              "      <th>246</th>\n",
              "      <td>247</td>\n",
              "      <td>0</td>\n",
              "      <td>3</td>\n",
              "      <td>25.000000</td>\n",
              "      <td>0</td>\n",
              "      <td>0</td>\n",
              "      <td>7.7750</td>\n",
              "      <td>0.0</td>\n",
              "      <td>0.0</td>\n",
              "      <td>1.0</td>\n",
              "      <td>1.0</td>\n",
              "      <td>0.0</td>\n",
              "    </tr>\n",
              "    <tr>\n",
              "      <th>865</th>\n",
              "      <td>866</td>\n",
              "      <td>1</td>\n",
              "      <td>2</td>\n",
              "      <td>42.000000</td>\n",
              "      <td>0</td>\n",
              "      <td>0</td>\n",
              "      <td>13.0000</td>\n",
              "      <td>0.0</td>\n",
              "      <td>0.0</td>\n",
              "      <td>1.0</td>\n",
              "      <td>1.0</td>\n",
              "      <td>0.0</td>\n",
              "    </tr>\n",
              "    <tr>\n",
              "      <th>671</th>\n",
              "      <td>672</td>\n",
              "      <td>0</td>\n",
              "      <td>1</td>\n",
              "      <td>31.000000</td>\n",
              "      <td>1</td>\n",
              "      <td>0</td>\n",
              "      <td>52.0000</td>\n",
              "      <td>0.0</td>\n",
              "      <td>0.0</td>\n",
              "      <td>1.0</td>\n",
              "      <td>0.0</td>\n",
              "      <td>1.0</td>\n",
              "    </tr>\n",
              "    <tr>\n",
              "      <th>...</th>\n",
              "      <td>...</td>\n",
              "      <td>...</td>\n",
              "      <td>...</td>\n",
              "      <td>...</td>\n",
              "      <td>...</td>\n",
              "      <td>...</td>\n",
              "      <td>...</td>\n",
              "      <td>...</td>\n",
              "      <td>...</td>\n",
              "      <td>...</td>\n",
              "      <td>...</td>\n",
              "      <td>...</td>\n",
              "    </tr>\n",
              "    <tr>\n",
              "      <th>310</th>\n",
              "      <td>311</td>\n",
              "      <td>1</td>\n",
              "      <td>1</td>\n",
              "      <td>24.000000</td>\n",
              "      <td>0</td>\n",
              "      <td>0</td>\n",
              "      <td>83.1583</td>\n",
              "      <td>1.0</td>\n",
              "      <td>0.0</td>\n",
              "      <td>0.0</td>\n",
              "      <td>1.0</td>\n",
              "      <td>0.0</td>\n",
              "    </tr>\n",
              "    <tr>\n",
              "      <th>239</th>\n",
              "      <td>240</td>\n",
              "      <td>0</td>\n",
              "      <td>2</td>\n",
              "      <td>33.000000</td>\n",
              "      <td>0</td>\n",
              "      <td>0</td>\n",
              "      <td>12.2750</td>\n",
              "      <td>0.0</td>\n",
              "      <td>0.0</td>\n",
              "      <td>1.0</td>\n",
              "      <td>0.0</td>\n",
              "      <td>1.0</td>\n",
              "    </tr>\n",
              "    <tr>\n",
              "      <th>481</th>\n",
              "      <td>482</td>\n",
              "      <td>0</td>\n",
              "      <td>2</td>\n",
              "      <td>29.866637</td>\n",
              "      <td>0</td>\n",
              "      <td>0</td>\n",
              "      <td>0.0000</td>\n",
              "      <td>0.0</td>\n",
              "      <td>0.0</td>\n",
              "      <td>1.0</td>\n",
              "      <td>0.0</td>\n",
              "      <td>1.0</td>\n",
              "    </tr>\n",
              "    <tr>\n",
              "      <th>240</th>\n",
              "      <td>241</td>\n",
              "      <td>0</td>\n",
              "      <td>3</td>\n",
              "      <td>29.866637</td>\n",
              "      <td>1</td>\n",
              "      <td>0</td>\n",
              "      <td>14.4542</td>\n",
              "      <td>1.0</td>\n",
              "      <td>0.0</td>\n",
              "      <td>0.0</td>\n",
              "      <td>1.0</td>\n",
              "      <td>0.0</td>\n",
              "    </tr>\n",
              "    <tr>\n",
              "      <th>855</th>\n",
              "      <td>856</td>\n",
              "      <td>1</td>\n",
              "      <td>3</td>\n",
              "      <td>18.000000</td>\n",
              "      <td>0</td>\n",
              "      <td>1</td>\n",
              "      <td>9.3500</td>\n",
              "      <td>0.0</td>\n",
              "      <td>0.0</td>\n",
              "      <td>1.0</td>\n",
              "      <td>1.0</td>\n",
              "      <td>0.0</td>\n",
              "    </tr>\n",
              "  </tbody>\n",
              "</table>\n",
              "<p>712 rows × 12 columns</p>\n",
              "</div>\n",
              "      <button class=\"colab-df-convert\" onclick=\"convertToInteractive('df-7e3d2c9b-60fd-4db2-9c09-797a89a56a30')\"\n",
              "              title=\"Convert this dataframe to an interactive table.\"\n",
              "              style=\"display:none;\">\n",
              "        \n",
              "  <svg xmlns=\"http://www.w3.org/2000/svg\" height=\"24px\"viewBox=\"0 0 24 24\"\n",
              "       width=\"24px\">\n",
              "    <path d=\"M0 0h24v24H0V0z\" fill=\"none\"/>\n",
              "    <path d=\"M18.56 5.44l.94 2.06.94-2.06 2.06-.94-2.06-.94-.94-2.06-.94 2.06-2.06.94zm-11 1L8.5 8.5l.94-2.06 2.06-.94-2.06-.94L8.5 2.5l-.94 2.06-2.06.94zm10 10l.94 2.06.94-2.06 2.06-.94-2.06-.94-.94-2.06-.94 2.06-2.06.94z\"/><path d=\"M17.41 7.96l-1.37-1.37c-.4-.4-.92-.59-1.43-.59-.52 0-1.04.2-1.43.59L10.3 9.45l-7.72 7.72c-.78.78-.78 2.05 0 2.83L4 21.41c.39.39.9.59 1.41.59.51 0 1.02-.2 1.41-.59l7.78-7.78 2.81-2.81c.8-.78.8-2.07 0-2.86zM5.41 20L4 18.59l7.72-7.72 1.47 1.35L5.41 20z\"/>\n",
              "  </svg>\n",
              "      </button>\n",
              "      \n",
              "  <style>\n",
              "    .colab-df-container {\n",
              "      display:flex;\n",
              "      flex-wrap:wrap;\n",
              "      gap: 12px;\n",
              "    }\n",
              "\n",
              "    .colab-df-convert {\n",
              "      background-color: #E8F0FE;\n",
              "      border: none;\n",
              "      border-radius: 50%;\n",
              "      cursor: pointer;\n",
              "      display: none;\n",
              "      fill: #1967D2;\n",
              "      height: 32px;\n",
              "      padding: 0 0 0 0;\n",
              "      width: 32px;\n",
              "    }\n",
              "\n",
              "    .colab-df-convert:hover {\n",
              "      background-color: #E2EBFA;\n",
              "      box-shadow: 0px 1px 2px rgba(60, 64, 67, 0.3), 0px 1px 3px 1px rgba(60, 64, 67, 0.15);\n",
              "      fill: #174EA6;\n",
              "    }\n",
              "\n",
              "    [theme=dark] .colab-df-convert {\n",
              "      background-color: #3B4455;\n",
              "      fill: #D2E3FC;\n",
              "    }\n",
              "\n",
              "    [theme=dark] .colab-df-convert:hover {\n",
              "      background-color: #434B5C;\n",
              "      box-shadow: 0px 1px 3px 1px rgba(0, 0, 0, 0.15);\n",
              "      filter: drop-shadow(0px 1px 2px rgba(0, 0, 0, 0.3));\n",
              "      fill: #FFFFFF;\n",
              "    }\n",
              "  </style>\n",
              "\n",
              "      <script>\n",
              "        const buttonEl =\n",
              "          document.querySelector('#df-7e3d2c9b-60fd-4db2-9c09-797a89a56a30 button.colab-df-convert');\n",
              "        buttonEl.style.display =\n",
              "          google.colab.kernel.accessAllowed ? 'block' : 'none';\n",
              "\n",
              "        async function convertToInteractive(key) {\n",
              "          const element = document.querySelector('#df-7e3d2c9b-60fd-4db2-9c09-797a89a56a30');\n",
              "          const dataTable =\n",
              "            await google.colab.kernel.invokeFunction('convertToInteractive',\n",
              "                                                     [key], {});\n",
              "          if (!dataTable) return;\n",
              "\n",
              "          const docLinkHtml = 'Like what you see? Visit the ' +\n",
              "            '<a target=\"_blank\" href=https://colab.research.google.com/notebooks/data_table.ipynb>data table notebook</a>'\n",
              "            + ' to learn more about interactive tables.';\n",
              "          element.innerHTML = '';\n",
              "          dataTable['output_type'] = 'display_data';\n",
              "          await google.colab.output.renderOutput(dataTable, element);\n",
              "          const docLink = document.createElement('div');\n",
              "          docLink.innerHTML = docLinkHtml;\n",
              "          element.appendChild(docLink);\n",
              "        }\n",
              "      </script>\n",
              "    </div>\n",
              "  </div>\n",
              "  "
            ]
          },
          "metadata": {},
          "execution_count": 15
        }
      ]
    },
    {
      "cell_type": "code",
      "source": [
        "start_train_set.info()"
      ],
      "metadata": {
        "colab": {
          "base_uri": "https://localhost:8080/"
        },
        "id": "c1OuuHJwjYqy",
        "outputId": "a245ef90-4246-4941-90ea-c49d8aaa8452"
      },
      "execution_count": null,
      "outputs": [
        {
          "output_type": "stream",
          "name": "stdout",
          "text": [
            "<class 'pandas.core.frame.DataFrame'>\n",
            "Int64Index: 712 entries, 0 to 855\n",
            "Data columns (total 12 columns):\n",
            " #   Column       Non-Null Count  Dtype  \n",
            "---  ------       --------------  -----  \n",
            " 0   PassengerId  712 non-null    int64  \n",
            " 1   Survived     712 non-null    int64  \n",
            " 2   Pclass       712 non-null    int64  \n",
            " 3   Age          712 non-null    float64\n",
            " 4   SibSp        712 non-null    int64  \n",
            " 5   Parch        712 non-null    int64  \n",
            " 6   Fare         712 non-null    float64\n",
            " 7   C            712 non-null    float64\n",
            " 8   S            712 non-null    float64\n",
            " 9   Q            712 non-null    float64\n",
            " 10  Female       712 non-null    float64\n",
            " 11  Male         712 non-null    float64\n",
            "dtypes: float64(7), int64(5)\n",
            "memory usage: 72.3 KB\n"
          ]
        }
      ]
    },
    {
      "cell_type": "code",
      "source": [
        "from sklearn.preprocessing import StandardScaler\n",
        "\n",
        "x = start_train_set.drop(['Survived', 'PassengerId'], axis = 1)\n",
        "y = start_train_set['Survived']\n",
        "\n",
        "scaler = StandardScaler()\n",
        "x_data = scaler.fit_transform(x)\n",
        "y_data = y.to_numpy()"
      ],
      "metadata": {
        "id": "-eZHwx9fj7rY"
      },
      "execution_count": null,
      "outputs": []
    },
    {
      "cell_type": "code",
      "source": [
        "x_data"
      ],
      "metadata": {
        "colab": {
          "base_uri": "https://localhost:8080/"
        },
        "id": "fOYeDrtVyPHJ",
        "outputId": "529954c3-b5cf-461a-9c48-1e7997989a37"
      },
      "execution_count": null,
      "outputs": [
        {
          "output_type": "execute_result",
          "data": {
            "text/plain": [
              "array([[ 0.82789342, -0.61114492,  0.4499184 , ...,  0.61848547,\n",
              "        -0.73561236,  0.73561236],\n",
              "       [-1.56828591,  0.        , -0.47860885, ...,  0.61848547,\n",
              "        -0.73561236,  0.73561236],\n",
              "       [ 0.82789342, -0.37808031, -0.47860885, ...,  0.61848547,\n",
              "         1.35941164, -1.35941164],\n",
              "       ...,\n",
              "       [-0.37019624,  0.        , -0.47860885, ...,  0.61848547,\n",
              "        -0.73561236,  0.73561236],\n",
              "       [ 0.82789342,  0.        ,  0.4499184 , ..., -1.61685287,\n",
              "         1.35941164, -1.35941164],\n",
              "       [ 0.82789342, -0.92189774, -0.47860885, ...,  0.61848547,\n",
              "         1.35941164, -1.35941164]])"
            ]
          },
          "metadata": {},
          "execution_count": 18
        }
      ]
    },
    {
      "cell_type": "code",
      "source": [
        "y_data"
      ],
      "metadata": {
        "colab": {
          "base_uri": "https://localhost:8080/"
        },
        "id": "RQU2dQHOyWh9",
        "outputId": "0ec504c9-7869-4114-8b16-9f6ca88f7835"
      },
      "execution_count": null,
      "outputs": [
        {
          "output_type": "execute_result",
          "data": {
            "text/plain": [
              "array([0, 0, 0, 1, 0, 0, 0, 0, 1, 1, 1, 0, 1, 0, 0, 1, 1, 0, 1, 0, 0, 0,\n",
              "       0, 0, 0, 1, 0, 0, 1, 1, 0, 1, 0, 1, 0, 1, 0, 1, 0, 1, 1, 0, 0, 1,\n",
              "       0, 0, 0, 1, 0, 0, 0, 1, 0, 0, 0, 0, 0, 0, 0, 1, 0, 0, 1, 1, 1, 1,\n",
              "       0, 0, 1, 1, 1, 0, 0, 0, 0, 0, 0, 1, 1, 1, 0, 0, 0, 1, 0, 1, 0, 1,\n",
              "       0, 0, 0, 0, 0, 0, 1, 1, 1, 1, 0, 0, 0, 0, 0, 0, 0, 1, 1, 0, 0, 1,\n",
              "       0, 1, 1, 1, 0, 0, 1, 1, 1, 0, 1, 0, 0, 0, 0, 1, 0, 1, 0, 1, 0, 0,\n",
              "       0, 0, 1, 0, 1, 1, 1, 0, 1, 1, 0, 1, 0, 0, 0, 0, 0, 0, 0, 0, 0, 1,\n",
              "       0, 1, 0, 0, 1, 1, 0, 1, 0, 0, 1, 0, 1, 1, 0, 1, 1, 0, 1, 1, 1, 1,\n",
              "       1, 1, 1, 0, 0, 1, 0, 1, 1, 1, 0, 0, 1, 0, 0, 0, 0, 0, 0, 0, 0, 0,\n",
              "       0, 1, 0, 1, 0, 0, 0, 1, 1, 0, 0, 1, 1, 0, 0, 1, 1, 0, 0, 1, 1, 0,\n",
              "       0, 0, 0, 0, 0, 1, 0, 0, 1, 0, 1, 0, 0, 0, 1, 1, 1, 1, 0, 1, 0, 1,\n",
              "       0, 1, 0, 0, 0, 1, 1, 0, 0, 1, 0, 0, 0, 0, 0, 1, 0, 0, 0, 1, 0, 1,\n",
              "       1, 0, 1, 1, 0, 1, 0, 1, 1, 0, 0, 0, 1, 0, 0, 0, 0, 0, 1, 0, 0, 0,\n",
              "       1, 1, 0, 0, 1, 0, 0, 1, 0, 0, 0, 1, 0, 0, 1, 1, 1, 0, 0, 0, 0, 1,\n",
              "       0, 0, 1, 1, 0, 0, 0, 0, 0, 0, 0, 1, 1, 0, 1, 0, 0, 0, 0, 0, 0, 0,\n",
              "       1, 0, 0, 0, 0, 0, 1, 0, 1, 1, 0, 1, 0, 1, 0, 0, 0, 1, 0, 0, 0, 1,\n",
              "       0, 0, 0, 1, 1, 1, 0, 0, 0, 0, 1, 0, 0, 0, 0, 0, 1, 1, 1, 1, 1, 1,\n",
              "       0, 0, 0, 0, 0, 0, 0, 0, 0, 0, 0, 0, 0, 0, 1, 1, 0, 1, 1, 1, 0, 1,\n",
              "       0, 1, 0, 1, 0, 1, 0, 0, 1, 0, 1, 0, 0, 0, 0, 0, 0, 1, 1, 0, 0, 0,\n",
              "       0, 0, 0, 1, 0, 0, 1, 0, 0, 1, 0, 1, 0, 0, 1, 0, 0, 0, 0, 0, 0, 1,\n",
              "       0, 0, 0, 1, 1, 1, 1, 1, 0, 1, 0, 0, 0, 0, 1, 0, 1, 0, 0, 1, 1, 0,\n",
              "       0, 0, 0, 0, 0, 0, 1, 0, 0, 0, 1, 0, 1, 1, 0, 0, 0, 1, 1, 0, 0, 1,\n",
              "       1, 1, 0, 0, 1, 0, 1, 0, 0, 0, 1, 1, 0, 0, 0, 0, 0, 0, 0, 0, 1, 1,\n",
              "       0, 1, 0, 0, 1, 0, 0, 0, 1, 0, 0, 0, 1, 1, 1, 1, 1, 0, 1, 0, 0, 1,\n",
              "       0, 0, 1, 1, 0, 1, 1, 1, 1, 0, 1, 0, 1, 0, 1, 0, 0, 1, 0, 0, 1, 0,\n",
              "       0, 0, 0, 1, 0, 0, 0, 1, 0, 0, 0, 0, 0, 1, 0, 0, 1, 0, 0, 0, 1, 1,\n",
              "       1, 0, 0, 1, 0, 0, 1, 1, 1, 0, 0, 0, 1, 1, 1, 0, 1, 0, 0, 1, 0, 1,\n",
              "       1, 0, 0, 1, 0, 0, 0, 1, 1, 0, 0, 0, 1, 1, 0, 0, 0, 0, 0, 1, 1, 0,\n",
              "       0, 0, 0, 1, 1, 1, 0, 1, 1, 0, 1, 0, 1, 0, 0, 1, 1, 1, 1, 0, 0, 0,\n",
              "       0, 1, 0, 1, 0, 0, 1, 1, 0, 0, 1, 0, 1, 0, 0, 0, 1, 1, 1, 0, 1, 0,\n",
              "       0, 0, 0, 0, 0, 0, 1, 0, 0, 0, 0, 1, 0, 0, 1, 0, 1, 1, 0, 1, 0, 0,\n",
              "       0, 1, 0, 1, 0, 0, 1, 0, 0, 0, 0, 0, 0, 0, 0, 1, 1, 0, 0, 1, 0, 1,\n",
              "       0, 1, 1, 1, 0, 0, 0, 1])"
            ]
          },
          "metadata": {},
          "execution_count": 19
        }
      ]
    },
    {
      "cell_type": "code",
      "source": [
        "from sklearn.ensemble import RandomForestClassifier\n",
        "from sklearn.model_selection import GridSearchCV\n",
        "\n",
        "clf = RandomForestClassifier()\n",
        "\n",
        "param_grid = [\n",
        "    { \"n_estimators\": [10,200,500,600,1000], \"max_depth\":[None, 5,10], \"min_samples_split\":[2,2,4]}\n",
        "]\n",
        "\n",
        "grid_search = GridSearchCV(clf, param_grid, cv = 3 , scoring = \"accuracy\", return_train_score = True)\n",
        "grid_search.fit(x_data, y_data)\n"
      ],
      "metadata": {
        "colab": {
          "base_uri": "https://localhost:8080/",
          "height": 117
        },
        "id": "quO4iAwiydC8",
        "outputId": "0216f92a-6aaf-4622-bedc-c7dbd9aa47d8"
      },
      "execution_count": null,
      "outputs": [
        {
          "output_type": "execute_result",
          "data": {
            "text/plain": [
              "GridSearchCV(cv=3, estimator=RandomForestClassifier(),\n",
              "             param_grid=[{'max_depth': [None, 5, 10],\n",
              "                          'min_samples_split': [2, 2, 4],\n",
              "                          'n_estimators': [10, 200, 500, 600, 1000]}],\n",
              "             return_train_score=True, scoring='accuracy')"
            ],
            "text/html": [
              "<style>#sk-container-id-1 {color: black;background-color: white;}#sk-container-id-1 pre{padding: 0;}#sk-container-id-1 div.sk-toggleable {background-color: white;}#sk-container-id-1 label.sk-toggleable__label {cursor: pointer;display: block;width: 100%;margin-bottom: 0;padding: 0.3em;box-sizing: border-box;text-align: center;}#sk-container-id-1 label.sk-toggleable__label-arrow:before {content: \"▸\";float: left;margin-right: 0.25em;color: #696969;}#sk-container-id-1 label.sk-toggleable__label-arrow:hover:before {color: black;}#sk-container-id-1 div.sk-estimator:hover label.sk-toggleable__label-arrow:before {color: black;}#sk-container-id-1 div.sk-toggleable__content {max-height: 0;max-width: 0;overflow: hidden;text-align: left;background-color: #f0f8ff;}#sk-container-id-1 div.sk-toggleable__content pre {margin: 0.2em;color: black;border-radius: 0.25em;background-color: #f0f8ff;}#sk-container-id-1 input.sk-toggleable__control:checked~div.sk-toggleable__content {max-height: 200px;max-width: 100%;overflow: auto;}#sk-container-id-1 input.sk-toggleable__control:checked~label.sk-toggleable__label-arrow:before {content: \"▾\";}#sk-container-id-1 div.sk-estimator input.sk-toggleable__control:checked~label.sk-toggleable__label {background-color: #d4ebff;}#sk-container-id-1 div.sk-label input.sk-toggleable__control:checked~label.sk-toggleable__label {background-color: #d4ebff;}#sk-container-id-1 input.sk-hidden--visually {border: 0;clip: rect(1px 1px 1px 1px);clip: rect(1px, 1px, 1px, 1px);height: 1px;margin: -1px;overflow: hidden;padding: 0;position: absolute;width: 1px;}#sk-container-id-1 div.sk-estimator {font-family: monospace;background-color: #f0f8ff;border: 1px dotted black;border-radius: 0.25em;box-sizing: border-box;margin-bottom: 0.5em;}#sk-container-id-1 div.sk-estimator:hover {background-color: #d4ebff;}#sk-container-id-1 div.sk-parallel-item::after {content: \"\";width: 100%;border-bottom: 1px solid gray;flex-grow: 1;}#sk-container-id-1 div.sk-label:hover label.sk-toggleable__label {background-color: #d4ebff;}#sk-container-id-1 div.sk-serial::before {content: \"\";position: absolute;border-left: 1px solid gray;box-sizing: border-box;top: 0;bottom: 0;left: 50%;z-index: 0;}#sk-container-id-1 div.sk-serial {display: flex;flex-direction: column;align-items: center;background-color: white;padding-right: 0.2em;padding-left: 0.2em;position: relative;}#sk-container-id-1 div.sk-item {position: relative;z-index: 1;}#sk-container-id-1 div.sk-parallel {display: flex;align-items: stretch;justify-content: center;background-color: white;position: relative;}#sk-container-id-1 div.sk-item::before, #sk-container-id-1 div.sk-parallel-item::before {content: \"\";position: absolute;border-left: 1px solid gray;box-sizing: border-box;top: 0;bottom: 0;left: 50%;z-index: -1;}#sk-container-id-1 div.sk-parallel-item {display: flex;flex-direction: column;z-index: 1;position: relative;background-color: white;}#sk-container-id-1 div.sk-parallel-item:first-child::after {align-self: flex-end;width: 50%;}#sk-container-id-1 div.sk-parallel-item:last-child::after {align-self: flex-start;width: 50%;}#sk-container-id-1 div.sk-parallel-item:only-child::after {width: 0;}#sk-container-id-1 div.sk-dashed-wrapped {border: 1px dashed gray;margin: 0 0.4em 0.5em 0.4em;box-sizing: border-box;padding-bottom: 0.4em;background-color: white;}#sk-container-id-1 div.sk-label label {font-family: monospace;font-weight: bold;display: inline-block;line-height: 1.2em;}#sk-container-id-1 div.sk-label-container {text-align: center;}#sk-container-id-1 div.sk-container {/* jupyter's `normalize.less` sets `[hidden] { display: none; }` but bootstrap.min.css set `[hidden] { display: none !important; }` so we also need the `!important` here to be able to override the default hidden behavior on the sphinx rendered scikit-learn.org. See: https://github.com/scikit-learn/scikit-learn/issues/21755 */display: inline-block !important;position: relative;}#sk-container-id-1 div.sk-text-repr-fallback {display: none;}</style><div id=\"sk-container-id-1\" class=\"sk-top-container\"><div class=\"sk-text-repr-fallback\"><pre>GridSearchCV(cv=3, estimator=RandomForestClassifier(),\n",
              "             param_grid=[{&#x27;max_depth&#x27;: [None, 5, 10],\n",
              "                          &#x27;min_samples_split&#x27;: [2, 2, 4],\n",
              "                          &#x27;n_estimators&#x27;: [10, 200, 500, 600, 1000]}],\n",
              "             return_train_score=True, scoring=&#x27;accuracy&#x27;)</pre><b>In a Jupyter environment, please rerun this cell to show the HTML representation or trust the notebook. <br />On GitHub, the HTML representation is unable to render, please try loading this page with nbviewer.org.</b></div><div class=\"sk-container\" hidden><div class=\"sk-item sk-dashed-wrapped\"><div class=\"sk-label-container\"><div class=\"sk-label sk-toggleable\"><input class=\"sk-toggleable__control sk-hidden--visually\" id=\"sk-estimator-id-1\" type=\"checkbox\" ><label for=\"sk-estimator-id-1\" class=\"sk-toggleable__label sk-toggleable__label-arrow\">GridSearchCV</label><div class=\"sk-toggleable__content\"><pre>GridSearchCV(cv=3, estimator=RandomForestClassifier(),\n",
              "             param_grid=[{&#x27;max_depth&#x27;: [None, 5, 10],\n",
              "                          &#x27;min_samples_split&#x27;: [2, 2, 4],\n",
              "                          &#x27;n_estimators&#x27;: [10, 200, 500, 600, 1000]}],\n",
              "             return_train_score=True, scoring=&#x27;accuracy&#x27;)</pre></div></div></div><div class=\"sk-parallel\"><div class=\"sk-parallel-item\"><div class=\"sk-item\"><div class=\"sk-label-container\"><div class=\"sk-label sk-toggleable\"><input class=\"sk-toggleable__control sk-hidden--visually\" id=\"sk-estimator-id-2\" type=\"checkbox\" ><label for=\"sk-estimator-id-2\" class=\"sk-toggleable__label sk-toggleable__label-arrow\">estimator: RandomForestClassifier</label><div class=\"sk-toggleable__content\"><pre>RandomForestClassifier()</pre></div></div></div><div class=\"sk-serial\"><div class=\"sk-item\"><div class=\"sk-estimator sk-toggleable\"><input class=\"sk-toggleable__control sk-hidden--visually\" id=\"sk-estimator-id-3\" type=\"checkbox\" ><label for=\"sk-estimator-id-3\" class=\"sk-toggleable__label sk-toggleable__label-arrow\">RandomForestClassifier</label><div class=\"sk-toggleable__content\"><pre>RandomForestClassifier()</pre></div></div></div></div></div></div></div></div></div></div>"
            ]
          },
          "metadata": {},
          "execution_count": 20
        }
      ]
    },
    {
      "cell_type": "code",
      "source": [
        "final_clf = grid_search.best_estimator_\n",
        "final_clf"
      ],
      "metadata": {
        "colab": {
          "base_uri": "https://localhost:8080/",
          "height": 74
        },
        "id": "4tUuxI1U2-c-",
        "outputId": "5f8d86aa-4193-44ae-d9bc-3b042047cfd4"
      },
      "execution_count": null,
      "outputs": [
        {
          "output_type": "execute_result",
          "data": {
            "text/plain": [
              "RandomForestClassifier(max_depth=5, n_estimators=600)"
            ],
            "text/html": [
              "<style>#sk-container-id-2 {color: black;background-color: white;}#sk-container-id-2 pre{padding: 0;}#sk-container-id-2 div.sk-toggleable {background-color: white;}#sk-container-id-2 label.sk-toggleable__label {cursor: pointer;display: block;width: 100%;margin-bottom: 0;padding: 0.3em;box-sizing: border-box;text-align: center;}#sk-container-id-2 label.sk-toggleable__label-arrow:before {content: \"▸\";float: left;margin-right: 0.25em;color: #696969;}#sk-container-id-2 label.sk-toggleable__label-arrow:hover:before {color: black;}#sk-container-id-2 div.sk-estimator:hover label.sk-toggleable__label-arrow:before {color: black;}#sk-container-id-2 div.sk-toggleable__content {max-height: 0;max-width: 0;overflow: hidden;text-align: left;background-color: #f0f8ff;}#sk-container-id-2 div.sk-toggleable__content pre {margin: 0.2em;color: black;border-radius: 0.25em;background-color: #f0f8ff;}#sk-container-id-2 input.sk-toggleable__control:checked~div.sk-toggleable__content {max-height: 200px;max-width: 100%;overflow: auto;}#sk-container-id-2 input.sk-toggleable__control:checked~label.sk-toggleable__label-arrow:before {content: \"▾\";}#sk-container-id-2 div.sk-estimator input.sk-toggleable__control:checked~label.sk-toggleable__label {background-color: #d4ebff;}#sk-container-id-2 div.sk-label input.sk-toggleable__control:checked~label.sk-toggleable__label {background-color: #d4ebff;}#sk-container-id-2 input.sk-hidden--visually {border: 0;clip: rect(1px 1px 1px 1px);clip: rect(1px, 1px, 1px, 1px);height: 1px;margin: -1px;overflow: hidden;padding: 0;position: absolute;width: 1px;}#sk-container-id-2 div.sk-estimator {font-family: monospace;background-color: #f0f8ff;border: 1px dotted black;border-radius: 0.25em;box-sizing: border-box;margin-bottom: 0.5em;}#sk-container-id-2 div.sk-estimator:hover {background-color: #d4ebff;}#sk-container-id-2 div.sk-parallel-item::after {content: \"\";width: 100%;border-bottom: 1px solid gray;flex-grow: 1;}#sk-container-id-2 div.sk-label:hover label.sk-toggleable__label {background-color: #d4ebff;}#sk-container-id-2 div.sk-serial::before {content: \"\";position: absolute;border-left: 1px solid gray;box-sizing: border-box;top: 0;bottom: 0;left: 50%;z-index: 0;}#sk-container-id-2 div.sk-serial {display: flex;flex-direction: column;align-items: center;background-color: white;padding-right: 0.2em;padding-left: 0.2em;position: relative;}#sk-container-id-2 div.sk-item {position: relative;z-index: 1;}#sk-container-id-2 div.sk-parallel {display: flex;align-items: stretch;justify-content: center;background-color: white;position: relative;}#sk-container-id-2 div.sk-item::before, #sk-container-id-2 div.sk-parallel-item::before {content: \"\";position: absolute;border-left: 1px solid gray;box-sizing: border-box;top: 0;bottom: 0;left: 50%;z-index: -1;}#sk-container-id-2 div.sk-parallel-item {display: flex;flex-direction: column;z-index: 1;position: relative;background-color: white;}#sk-container-id-2 div.sk-parallel-item:first-child::after {align-self: flex-end;width: 50%;}#sk-container-id-2 div.sk-parallel-item:last-child::after {align-self: flex-start;width: 50%;}#sk-container-id-2 div.sk-parallel-item:only-child::after {width: 0;}#sk-container-id-2 div.sk-dashed-wrapped {border: 1px dashed gray;margin: 0 0.4em 0.5em 0.4em;box-sizing: border-box;padding-bottom: 0.4em;background-color: white;}#sk-container-id-2 div.sk-label label {font-family: monospace;font-weight: bold;display: inline-block;line-height: 1.2em;}#sk-container-id-2 div.sk-label-container {text-align: center;}#sk-container-id-2 div.sk-container {/* jupyter's `normalize.less` sets `[hidden] { display: none; }` but bootstrap.min.css set `[hidden] { display: none !important; }` so we also need the `!important` here to be able to override the default hidden behavior on the sphinx rendered scikit-learn.org. See: https://github.com/scikit-learn/scikit-learn/issues/21755 */display: inline-block !important;position: relative;}#sk-container-id-2 div.sk-text-repr-fallback {display: none;}</style><div id=\"sk-container-id-2\" class=\"sk-top-container\"><div class=\"sk-text-repr-fallback\"><pre>RandomForestClassifier(max_depth=5, n_estimators=600)</pre><b>In a Jupyter environment, please rerun this cell to show the HTML representation or trust the notebook. <br />On GitHub, the HTML representation is unable to render, please try loading this page with nbviewer.org.</b></div><div class=\"sk-container\" hidden><div class=\"sk-item\"><div class=\"sk-estimator sk-toggleable\"><input class=\"sk-toggleable__control sk-hidden--visually\" id=\"sk-estimator-id-4\" type=\"checkbox\" checked><label for=\"sk-estimator-id-4\" class=\"sk-toggleable__label sk-toggleable__label-arrow\">RandomForestClassifier</label><div class=\"sk-toggleable__content\"><pre>RandomForestClassifier(max_depth=5, n_estimators=600)</pre></div></div></div></div></div>"
            ]
          },
          "metadata": {},
          "execution_count": 21
        }
      ]
    },
    {
      "cell_type": "code",
      "source": [
        "start_test_set = pipeline.fit_transform(start_test_set)"
      ],
      "metadata": {
        "id": "VOJzr8y84PBA"
      },
      "execution_count": null,
      "outputs": []
    },
    {
      "cell_type": "code",
      "source": [
        "x_test = start_test_set.drop([\"Survived\", \"PassengerId\"], axis = 1)\n",
        "y_test = start_test_set['Survived']\n",
        "\n",
        "scaler = StandardScaler()\n",
        "x_data_set_test = scaler.fit_transform(x_test)\n",
        "y_data_set_test = y_test.to_numpy()\n",
        "\n",
        "x_data_set_test\n"
      ],
      "metadata": {
        "id": "2-5XIXIo3TyJ",
        "colab": {
          "base_uri": "https://localhost:8080/"
        },
        "outputId": "ac8ca512-5ad4-4a36-d07a-5b6967195a2c"
      },
      "execution_count": null,
      "outputs": [
        {
          "output_type": "execute_result",
          "data": {
            "text/plain": [
              "array([[ 0.82534717,  0.        , -0.46225359, ...,  0.62257281,\n",
              "        -0.74600385,  0.74600385],\n",
              "       [ 0.82534717, -0.30079352, -0.46225359, ..., -1.60623784,\n",
              "        -0.74600385,  0.74600385],\n",
              "       [ 0.82534717,  0.        , -0.46225359, ..., -1.60623784,\n",
              "         1.34047566, -1.34047566],\n",
              "       ...,\n",
              "       [ 0.82534717, -0.52374681, -0.46225359, ...,  0.62257281,\n",
              "        -0.74600385,  0.74600385],\n",
              "       [ 0.82534717, -0.37511128, -0.46225359, ...,  0.62257281,\n",
              "        -0.74600385,  0.74600385],\n",
              "       [ 0.82534717,  0.        , -0.46225359, ...,  0.62257281,\n",
              "        -0.74600385,  0.74600385]])"
            ]
          },
          "metadata": {},
          "execution_count": 23
        }
      ]
    },
    {
      "cell_type": "code",
      "source": [
        "final_clf.score(x_data_set_test, y_data_set_test)"
      ],
      "metadata": {
        "colab": {
          "base_uri": "https://localhost:8080/"
        },
        "id": "J8OeZb8255yT",
        "outputId": "daf75552-8ba4-4c85-8e8c-ddd26dfa4fdd"
      },
      "execution_count": null,
      "outputs": [
        {
          "output_type": "execute_result",
          "data": {
            "text/plain": [
              "0.8268156424581006"
            ]
          },
          "metadata": {},
          "execution_count": 24
        }
      ]
    },
    {
      "cell_type": "code",
      "source": [
        "# get all the data and get the accuracy\n",
        "\n",
        "titanicdata = pipeline.fit_transform(titanicdata)"
      ],
      "metadata": {
        "id": "mtjQUIs36J-t"
      },
      "execution_count": null,
      "outputs": []
    },
    {
      "cell_type": "code",
      "source": [
        "titanicdata"
      ],
      "metadata": {
        "colab": {
          "base_uri": "https://localhost:8080/",
          "height": 423
        },
        "id": "Juk1uPAF6w-X",
        "outputId": "39eecd5b-dff2-4ad4-b8e1-cf118d0fd1ed"
      },
      "execution_count": null,
      "outputs": [
        {
          "output_type": "execute_result",
          "data": {
            "text/plain": [
              "     PassengerId  Survived  Pclass        Age  SibSp  Parch     Fare    C  \\\n",
              "0              1         0       3  22.000000      1      0   7.2500  0.0   \n",
              "1              2         1       1  38.000000      1      0  71.2833  1.0   \n",
              "2              3         1       3  26.000000      0      0   7.9250  0.0   \n",
              "3              4         1       1  35.000000      1      0  53.1000  0.0   \n",
              "4              5         0       3  35.000000      0      0   8.0500  0.0   \n",
              "..           ...       ...     ...        ...    ...    ...      ...  ...   \n",
              "886          887         0       2  27.000000      0      0  13.0000  0.0   \n",
              "887          888         1       1  19.000000      0      0  30.0000  0.0   \n",
              "888          889         0       3  29.699118      1      2  23.4500  0.0   \n",
              "889          890         1       1  26.000000      0      0  30.0000  1.0   \n",
              "890          891         0       3  32.000000      0      0   7.7500  0.0   \n",
              "\n",
              "       S    Q  Female  Male  \n",
              "0    0.0  1.0     0.0   1.0  \n",
              "1    0.0  0.0     1.0   0.0  \n",
              "2    0.0  1.0     1.0   0.0  \n",
              "3    0.0  1.0     1.0   0.0  \n",
              "4    0.0  1.0     0.0   1.0  \n",
              "..   ...  ...     ...   ...  \n",
              "886  0.0  1.0     0.0   1.0  \n",
              "887  0.0  1.0     1.0   0.0  \n",
              "888  0.0  1.0     1.0   0.0  \n",
              "889  0.0  0.0     0.0   1.0  \n",
              "890  1.0  0.0     0.0   1.0  \n",
              "\n",
              "[891 rows x 12 columns]"
            ],
            "text/html": [
              "\n",
              "  <div id=\"df-1ac115fe-a3e3-4a13-ae6f-1db81ecb6f59\">\n",
              "    <div class=\"colab-df-container\">\n",
              "      <div>\n",
              "<style scoped>\n",
              "    .dataframe tbody tr th:only-of-type {\n",
              "        vertical-align: middle;\n",
              "    }\n",
              "\n",
              "    .dataframe tbody tr th {\n",
              "        vertical-align: top;\n",
              "    }\n",
              "\n",
              "    .dataframe thead th {\n",
              "        text-align: right;\n",
              "    }\n",
              "</style>\n",
              "<table border=\"1\" class=\"dataframe\">\n",
              "  <thead>\n",
              "    <tr style=\"text-align: right;\">\n",
              "      <th></th>\n",
              "      <th>PassengerId</th>\n",
              "      <th>Survived</th>\n",
              "      <th>Pclass</th>\n",
              "      <th>Age</th>\n",
              "      <th>SibSp</th>\n",
              "      <th>Parch</th>\n",
              "      <th>Fare</th>\n",
              "      <th>C</th>\n",
              "      <th>S</th>\n",
              "      <th>Q</th>\n",
              "      <th>Female</th>\n",
              "      <th>Male</th>\n",
              "    </tr>\n",
              "  </thead>\n",
              "  <tbody>\n",
              "    <tr>\n",
              "      <th>0</th>\n",
              "      <td>1</td>\n",
              "      <td>0</td>\n",
              "      <td>3</td>\n",
              "      <td>22.000000</td>\n",
              "      <td>1</td>\n",
              "      <td>0</td>\n",
              "      <td>7.2500</td>\n",
              "      <td>0.0</td>\n",
              "      <td>0.0</td>\n",
              "      <td>1.0</td>\n",
              "      <td>0.0</td>\n",
              "      <td>1.0</td>\n",
              "    </tr>\n",
              "    <tr>\n",
              "      <th>1</th>\n",
              "      <td>2</td>\n",
              "      <td>1</td>\n",
              "      <td>1</td>\n",
              "      <td>38.000000</td>\n",
              "      <td>1</td>\n",
              "      <td>0</td>\n",
              "      <td>71.2833</td>\n",
              "      <td>1.0</td>\n",
              "      <td>0.0</td>\n",
              "      <td>0.0</td>\n",
              "      <td>1.0</td>\n",
              "      <td>0.0</td>\n",
              "    </tr>\n",
              "    <tr>\n",
              "      <th>2</th>\n",
              "      <td>3</td>\n",
              "      <td>1</td>\n",
              "      <td>3</td>\n",
              "      <td>26.000000</td>\n",
              "      <td>0</td>\n",
              "      <td>0</td>\n",
              "      <td>7.9250</td>\n",
              "      <td>0.0</td>\n",
              "      <td>0.0</td>\n",
              "      <td>1.0</td>\n",
              "      <td>1.0</td>\n",
              "      <td>0.0</td>\n",
              "    </tr>\n",
              "    <tr>\n",
              "      <th>3</th>\n",
              "      <td>4</td>\n",
              "      <td>1</td>\n",
              "      <td>1</td>\n",
              "      <td>35.000000</td>\n",
              "      <td>1</td>\n",
              "      <td>0</td>\n",
              "      <td>53.1000</td>\n",
              "      <td>0.0</td>\n",
              "      <td>0.0</td>\n",
              "      <td>1.0</td>\n",
              "      <td>1.0</td>\n",
              "      <td>0.0</td>\n",
              "    </tr>\n",
              "    <tr>\n",
              "      <th>4</th>\n",
              "      <td>5</td>\n",
              "      <td>0</td>\n",
              "      <td>3</td>\n",
              "      <td>35.000000</td>\n",
              "      <td>0</td>\n",
              "      <td>0</td>\n",
              "      <td>8.0500</td>\n",
              "      <td>0.0</td>\n",
              "      <td>0.0</td>\n",
              "      <td>1.0</td>\n",
              "      <td>0.0</td>\n",
              "      <td>1.0</td>\n",
              "    </tr>\n",
              "    <tr>\n",
              "      <th>...</th>\n",
              "      <td>...</td>\n",
              "      <td>...</td>\n",
              "      <td>...</td>\n",
              "      <td>...</td>\n",
              "      <td>...</td>\n",
              "      <td>...</td>\n",
              "      <td>...</td>\n",
              "      <td>...</td>\n",
              "      <td>...</td>\n",
              "      <td>...</td>\n",
              "      <td>...</td>\n",
              "      <td>...</td>\n",
              "    </tr>\n",
              "    <tr>\n",
              "      <th>886</th>\n",
              "      <td>887</td>\n",
              "      <td>0</td>\n",
              "      <td>2</td>\n",
              "      <td>27.000000</td>\n",
              "      <td>0</td>\n",
              "      <td>0</td>\n",
              "      <td>13.0000</td>\n",
              "      <td>0.0</td>\n",
              "      <td>0.0</td>\n",
              "      <td>1.0</td>\n",
              "      <td>0.0</td>\n",
              "      <td>1.0</td>\n",
              "    </tr>\n",
              "    <tr>\n",
              "      <th>887</th>\n",
              "      <td>888</td>\n",
              "      <td>1</td>\n",
              "      <td>1</td>\n",
              "      <td>19.000000</td>\n",
              "      <td>0</td>\n",
              "      <td>0</td>\n",
              "      <td>30.0000</td>\n",
              "      <td>0.0</td>\n",
              "      <td>0.0</td>\n",
              "      <td>1.0</td>\n",
              "      <td>1.0</td>\n",
              "      <td>0.0</td>\n",
              "    </tr>\n",
              "    <tr>\n",
              "      <th>888</th>\n",
              "      <td>889</td>\n",
              "      <td>0</td>\n",
              "      <td>3</td>\n",
              "      <td>29.699118</td>\n",
              "      <td>1</td>\n",
              "      <td>2</td>\n",
              "      <td>23.4500</td>\n",
              "      <td>0.0</td>\n",
              "      <td>0.0</td>\n",
              "      <td>1.0</td>\n",
              "      <td>1.0</td>\n",
              "      <td>0.0</td>\n",
              "    </tr>\n",
              "    <tr>\n",
              "      <th>889</th>\n",
              "      <td>890</td>\n",
              "      <td>1</td>\n",
              "      <td>1</td>\n",
              "      <td>26.000000</td>\n",
              "      <td>0</td>\n",
              "      <td>0</td>\n",
              "      <td>30.0000</td>\n",
              "      <td>1.0</td>\n",
              "      <td>0.0</td>\n",
              "      <td>0.0</td>\n",
              "      <td>0.0</td>\n",
              "      <td>1.0</td>\n",
              "    </tr>\n",
              "    <tr>\n",
              "      <th>890</th>\n",
              "      <td>891</td>\n",
              "      <td>0</td>\n",
              "      <td>3</td>\n",
              "      <td>32.000000</td>\n",
              "      <td>0</td>\n",
              "      <td>0</td>\n",
              "      <td>7.7500</td>\n",
              "      <td>0.0</td>\n",
              "      <td>1.0</td>\n",
              "      <td>0.0</td>\n",
              "      <td>0.0</td>\n",
              "      <td>1.0</td>\n",
              "    </tr>\n",
              "  </tbody>\n",
              "</table>\n",
              "<p>891 rows × 12 columns</p>\n",
              "</div>\n",
              "      <button class=\"colab-df-convert\" onclick=\"convertToInteractive('df-1ac115fe-a3e3-4a13-ae6f-1db81ecb6f59')\"\n",
              "              title=\"Convert this dataframe to an interactive table.\"\n",
              "              style=\"display:none;\">\n",
              "        \n",
              "  <svg xmlns=\"http://www.w3.org/2000/svg\" height=\"24px\"viewBox=\"0 0 24 24\"\n",
              "       width=\"24px\">\n",
              "    <path d=\"M0 0h24v24H0V0z\" fill=\"none\"/>\n",
              "    <path d=\"M18.56 5.44l.94 2.06.94-2.06 2.06-.94-2.06-.94-.94-2.06-.94 2.06-2.06.94zm-11 1L8.5 8.5l.94-2.06 2.06-.94-2.06-.94L8.5 2.5l-.94 2.06-2.06.94zm10 10l.94 2.06.94-2.06 2.06-.94-2.06-.94-.94-2.06-.94 2.06-2.06.94z\"/><path d=\"M17.41 7.96l-1.37-1.37c-.4-.4-.92-.59-1.43-.59-.52 0-1.04.2-1.43.59L10.3 9.45l-7.72 7.72c-.78.78-.78 2.05 0 2.83L4 21.41c.39.39.9.59 1.41.59.51 0 1.02-.2 1.41-.59l7.78-7.78 2.81-2.81c.8-.78.8-2.07 0-2.86zM5.41 20L4 18.59l7.72-7.72 1.47 1.35L5.41 20z\"/>\n",
              "  </svg>\n",
              "      </button>\n",
              "      \n",
              "  <style>\n",
              "    .colab-df-container {\n",
              "      display:flex;\n",
              "      flex-wrap:wrap;\n",
              "      gap: 12px;\n",
              "    }\n",
              "\n",
              "    .colab-df-convert {\n",
              "      background-color: #E8F0FE;\n",
              "      border: none;\n",
              "      border-radius: 50%;\n",
              "      cursor: pointer;\n",
              "      display: none;\n",
              "      fill: #1967D2;\n",
              "      height: 32px;\n",
              "      padding: 0 0 0 0;\n",
              "      width: 32px;\n",
              "    }\n",
              "\n",
              "    .colab-df-convert:hover {\n",
              "      background-color: #E2EBFA;\n",
              "      box-shadow: 0px 1px 2px rgba(60, 64, 67, 0.3), 0px 1px 3px 1px rgba(60, 64, 67, 0.15);\n",
              "      fill: #174EA6;\n",
              "    }\n",
              "\n",
              "    [theme=dark] .colab-df-convert {\n",
              "      background-color: #3B4455;\n",
              "      fill: #D2E3FC;\n",
              "    }\n",
              "\n",
              "    [theme=dark] .colab-df-convert:hover {\n",
              "      background-color: #434B5C;\n",
              "      box-shadow: 0px 1px 3px 1px rgba(0, 0, 0, 0.15);\n",
              "      filter: drop-shadow(0px 1px 2px rgba(0, 0, 0, 0.3));\n",
              "      fill: #FFFFFF;\n",
              "    }\n",
              "  </style>\n",
              "\n",
              "      <script>\n",
              "        const buttonEl =\n",
              "          document.querySelector('#df-1ac115fe-a3e3-4a13-ae6f-1db81ecb6f59 button.colab-df-convert');\n",
              "        buttonEl.style.display =\n",
              "          google.colab.kernel.accessAllowed ? 'block' : 'none';\n",
              "\n",
              "        async function convertToInteractive(key) {\n",
              "          const element = document.querySelector('#df-1ac115fe-a3e3-4a13-ae6f-1db81ecb6f59');\n",
              "          const dataTable =\n",
              "            await google.colab.kernel.invokeFunction('convertToInteractive',\n",
              "                                                     [key], {});\n",
              "          if (!dataTable) return;\n",
              "\n",
              "          const docLinkHtml = 'Like what you see? Visit the ' +\n",
              "            '<a target=\"_blank\" href=https://colab.research.google.com/notebooks/data_table.ipynb>data table notebook</a>'\n",
              "            + ' to learn more about interactive tables.';\n",
              "          element.innerHTML = '';\n",
              "          dataTable['output_type'] = 'display_data';\n",
              "          await google.colab.output.renderOutput(dataTable, element);\n",
              "          const docLink = document.createElement('div');\n",
              "          docLink.innerHTML = docLinkHtml;\n",
              "          element.appendChild(docLink);\n",
              "        }\n",
              "      </script>\n",
              "    </div>\n",
              "  </div>\n",
              "  "
            ]
          },
          "metadata": {},
          "execution_count": 26
        }
      ]
    },
    {
      "cell_type": "code",
      "source": [
        "titanicdata[\"Q\"].value_counts()"
      ],
      "metadata": {
        "colab": {
          "base_uri": "https://localhost:8080/"
        },
        "id": "i_HuaBSTWlsP",
        "outputId": "bd37616c-d21f-464c-fa4f-350953a29922"
      },
      "execution_count": null,
      "outputs": [
        {
          "output_type": "execute_result",
          "data": {
            "text/plain": [
              "1.0    644\n",
              "0.0    247\n",
              "Name: Q, dtype: int64"
            ]
          },
          "metadata": {},
          "execution_count": 27
        }
      ]
    },
    {
      "cell_type": "code",
      "source": [
        "x_final = titanicdata.drop([\"Survived\", \"PassengerId\"], axis = 1)\n",
        "y_final = titanicdata['Survived']\n",
        "\n",
        "scaler = StandardScaler()\n",
        "x_data_final = scaler.fit_transform(x_final)\n",
        "y_data_final = y_final.to_numpy()\n",
        "\n",
        "x_data_final_df = pd.DataFrame(x_data_final)\n",
        "y_data_final_df = pd.DataFrame(y_data_final)"
      ],
      "metadata": {
        "id": "xvKrntDk63el"
      },
      "execution_count": null,
      "outputs": []
    },
    {
      "cell_type": "code",
      "source": [
        "prod_clf = RandomForestClassifier()\n",
        "\n",
        "param_grid = [\n",
        "    { \"n_estimators\": [10,200,500,600,1000], \"max_depth\":[None, 5,10], \"min_samples_split\":[2,2,4]}\n",
        "]\n",
        "\n",
        "grid_search = GridSearchCV(prod_clf, param_grid,cv = 3, scoring = \"accuracy\", return_train_score = True)\n",
        "grid_search.fit(x_data_final, y_data_final)"
      ],
      "metadata": {
        "colab": {
          "base_uri": "https://localhost:8080/",
          "height": 117
        },
        "id": "7g4_yQHq8XdQ",
        "outputId": "347f6969-397a-467f-ae6e-0cc9e6e1bf79"
      },
      "execution_count": null,
      "outputs": [
        {
          "output_type": "execute_result",
          "data": {
            "text/plain": [
              "GridSearchCV(cv=3, estimator=RandomForestClassifier(),\n",
              "             param_grid=[{'max_depth': [None, 5, 10],\n",
              "                          'min_samples_split': [2, 2, 4],\n",
              "                          'n_estimators': [10, 200, 500, 600, 1000]}],\n",
              "             return_train_score=True, scoring='accuracy')"
            ],
            "text/html": [
              "<style>#sk-container-id-3 {color: black;background-color: white;}#sk-container-id-3 pre{padding: 0;}#sk-container-id-3 div.sk-toggleable {background-color: white;}#sk-container-id-3 label.sk-toggleable__label {cursor: pointer;display: block;width: 100%;margin-bottom: 0;padding: 0.3em;box-sizing: border-box;text-align: center;}#sk-container-id-3 label.sk-toggleable__label-arrow:before {content: \"▸\";float: left;margin-right: 0.25em;color: #696969;}#sk-container-id-3 label.sk-toggleable__label-arrow:hover:before {color: black;}#sk-container-id-3 div.sk-estimator:hover label.sk-toggleable__label-arrow:before {color: black;}#sk-container-id-3 div.sk-toggleable__content {max-height: 0;max-width: 0;overflow: hidden;text-align: left;background-color: #f0f8ff;}#sk-container-id-3 div.sk-toggleable__content pre {margin: 0.2em;color: black;border-radius: 0.25em;background-color: #f0f8ff;}#sk-container-id-3 input.sk-toggleable__control:checked~div.sk-toggleable__content {max-height: 200px;max-width: 100%;overflow: auto;}#sk-container-id-3 input.sk-toggleable__control:checked~label.sk-toggleable__label-arrow:before {content: \"▾\";}#sk-container-id-3 div.sk-estimator input.sk-toggleable__control:checked~label.sk-toggleable__label {background-color: #d4ebff;}#sk-container-id-3 div.sk-label input.sk-toggleable__control:checked~label.sk-toggleable__label {background-color: #d4ebff;}#sk-container-id-3 input.sk-hidden--visually {border: 0;clip: rect(1px 1px 1px 1px);clip: rect(1px, 1px, 1px, 1px);height: 1px;margin: -1px;overflow: hidden;padding: 0;position: absolute;width: 1px;}#sk-container-id-3 div.sk-estimator {font-family: monospace;background-color: #f0f8ff;border: 1px dotted black;border-radius: 0.25em;box-sizing: border-box;margin-bottom: 0.5em;}#sk-container-id-3 div.sk-estimator:hover {background-color: #d4ebff;}#sk-container-id-3 div.sk-parallel-item::after {content: \"\";width: 100%;border-bottom: 1px solid gray;flex-grow: 1;}#sk-container-id-3 div.sk-label:hover label.sk-toggleable__label {background-color: #d4ebff;}#sk-container-id-3 div.sk-serial::before {content: \"\";position: absolute;border-left: 1px solid gray;box-sizing: border-box;top: 0;bottom: 0;left: 50%;z-index: 0;}#sk-container-id-3 div.sk-serial {display: flex;flex-direction: column;align-items: center;background-color: white;padding-right: 0.2em;padding-left: 0.2em;position: relative;}#sk-container-id-3 div.sk-item {position: relative;z-index: 1;}#sk-container-id-3 div.sk-parallel {display: flex;align-items: stretch;justify-content: center;background-color: white;position: relative;}#sk-container-id-3 div.sk-item::before, #sk-container-id-3 div.sk-parallel-item::before {content: \"\";position: absolute;border-left: 1px solid gray;box-sizing: border-box;top: 0;bottom: 0;left: 50%;z-index: -1;}#sk-container-id-3 div.sk-parallel-item {display: flex;flex-direction: column;z-index: 1;position: relative;background-color: white;}#sk-container-id-3 div.sk-parallel-item:first-child::after {align-self: flex-end;width: 50%;}#sk-container-id-3 div.sk-parallel-item:last-child::after {align-self: flex-start;width: 50%;}#sk-container-id-3 div.sk-parallel-item:only-child::after {width: 0;}#sk-container-id-3 div.sk-dashed-wrapped {border: 1px dashed gray;margin: 0 0.4em 0.5em 0.4em;box-sizing: border-box;padding-bottom: 0.4em;background-color: white;}#sk-container-id-3 div.sk-label label {font-family: monospace;font-weight: bold;display: inline-block;line-height: 1.2em;}#sk-container-id-3 div.sk-label-container {text-align: center;}#sk-container-id-3 div.sk-container {/* jupyter's `normalize.less` sets `[hidden] { display: none; }` but bootstrap.min.css set `[hidden] { display: none !important; }` so we also need the `!important` here to be able to override the default hidden behavior on the sphinx rendered scikit-learn.org. See: https://github.com/scikit-learn/scikit-learn/issues/21755 */display: inline-block !important;position: relative;}#sk-container-id-3 div.sk-text-repr-fallback {display: none;}</style><div id=\"sk-container-id-3\" class=\"sk-top-container\"><div class=\"sk-text-repr-fallback\"><pre>GridSearchCV(cv=3, estimator=RandomForestClassifier(),\n",
              "             param_grid=[{&#x27;max_depth&#x27;: [None, 5, 10],\n",
              "                          &#x27;min_samples_split&#x27;: [2, 2, 4],\n",
              "                          &#x27;n_estimators&#x27;: [10, 200, 500, 600, 1000]}],\n",
              "             return_train_score=True, scoring=&#x27;accuracy&#x27;)</pre><b>In a Jupyter environment, please rerun this cell to show the HTML representation or trust the notebook. <br />On GitHub, the HTML representation is unable to render, please try loading this page with nbviewer.org.</b></div><div class=\"sk-container\" hidden><div class=\"sk-item sk-dashed-wrapped\"><div class=\"sk-label-container\"><div class=\"sk-label sk-toggleable\"><input class=\"sk-toggleable__control sk-hidden--visually\" id=\"sk-estimator-id-5\" type=\"checkbox\" ><label for=\"sk-estimator-id-5\" class=\"sk-toggleable__label sk-toggleable__label-arrow\">GridSearchCV</label><div class=\"sk-toggleable__content\"><pre>GridSearchCV(cv=3, estimator=RandomForestClassifier(),\n",
              "             param_grid=[{&#x27;max_depth&#x27;: [None, 5, 10],\n",
              "                          &#x27;min_samples_split&#x27;: [2, 2, 4],\n",
              "                          &#x27;n_estimators&#x27;: [10, 200, 500, 600, 1000]}],\n",
              "             return_train_score=True, scoring=&#x27;accuracy&#x27;)</pre></div></div></div><div class=\"sk-parallel\"><div class=\"sk-parallel-item\"><div class=\"sk-item\"><div class=\"sk-label-container\"><div class=\"sk-label sk-toggleable\"><input class=\"sk-toggleable__control sk-hidden--visually\" id=\"sk-estimator-id-6\" type=\"checkbox\" ><label for=\"sk-estimator-id-6\" class=\"sk-toggleable__label sk-toggleable__label-arrow\">estimator: RandomForestClassifier</label><div class=\"sk-toggleable__content\"><pre>RandomForestClassifier()</pre></div></div></div><div class=\"sk-serial\"><div class=\"sk-item\"><div class=\"sk-estimator sk-toggleable\"><input class=\"sk-toggleable__control sk-hidden--visually\" id=\"sk-estimator-id-7\" type=\"checkbox\" ><label for=\"sk-estimator-id-7\" class=\"sk-toggleable__label sk-toggleable__label-arrow\">RandomForestClassifier</label><div class=\"sk-toggleable__content\"><pre>RandomForestClassifier()</pre></div></div></div></div></div></div></div></div></div></div>"
            ]
          },
          "metadata": {},
          "execution_count": 29
        }
      ]
    },
    {
      "cell_type": "code",
      "source": [
        "prod_final_clf = grid_search.best_estimator_\n",
        "prod_final_clf"
      ],
      "metadata": {
        "colab": {
          "base_uri": "https://localhost:8080/",
          "height": 74
        },
        "id": "bdkAjxte9R-s",
        "outputId": "c9af430f-d502-4f52-8480-d958c55e923a"
      },
      "execution_count": null,
      "outputs": [
        {
          "output_type": "execute_result",
          "data": {
            "text/plain": [
              "RandomForestClassifier(max_depth=10, n_estimators=500)"
            ],
            "text/html": [
              "<style>#sk-container-id-4 {color: black;background-color: white;}#sk-container-id-4 pre{padding: 0;}#sk-container-id-4 div.sk-toggleable {background-color: white;}#sk-container-id-4 label.sk-toggleable__label {cursor: pointer;display: block;width: 100%;margin-bottom: 0;padding: 0.3em;box-sizing: border-box;text-align: center;}#sk-container-id-4 label.sk-toggleable__label-arrow:before {content: \"▸\";float: left;margin-right: 0.25em;color: #696969;}#sk-container-id-4 label.sk-toggleable__label-arrow:hover:before {color: black;}#sk-container-id-4 div.sk-estimator:hover label.sk-toggleable__label-arrow:before {color: black;}#sk-container-id-4 div.sk-toggleable__content {max-height: 0;max-width: 0;overflow: hidden;text-align: left;background-color: #f0f8ff;}#sk-container-id-4 div.sk-toggleable__content pre {margin: 0.2em;color: black;border-radius: 0.25em;background-color: #f0f8ff;}#sk-container-id-4 input.sk-toggleable__control:checked~div.sk-toggleable__content {max-height: 200px;max-width: 100%;overflow: auto;}#sk-container-id-4 input.sk-toggleable__control:checked~label.sk-toggleable__label-arrow:before {content: \"▾\";}#sk-container-id-4 div.sk-estimator input.sk-toggleable__control:checked~label.sk-toggleable__label {background-color: #d4ebff;}#sk-container-id-4 div.sk-label input.sk-toggleable__control:checked~label.sk-toggleable__label {background-color: #d4ebff;}#sk-container-id-4 input.sk-hidden--visually {border: 0;clip: rect(1px 1px 1px 1px);clip: rect(1px, 1px, 1px, 1px);height: 1px;margin: -1px;overflow: hidden;padding: 0;position: absolute;width: 1px;}#sk-container-id-4 div.sk-estimator {font-family: monospace;background-color: #f0f8ff;border: 1px dotted black;border-radius: 0.25em;box-sizing: border-box;margin-bottom: 0.5em;}#sk-container-id-4 div.sk-estimator:hover {background-color: #d4ebff;}#sk-container-id-4 div.sk-parallel-item::after {content: \"\";width: 100%;border-bottom: 1px solid gray;flex-grow: 1;}#sk-container-id-4 div.sk-label:hover label.sk-toggleable__label {background-color: #d4ebff;}#sk-container-id-4 div.sk-serial::before {content: \"\";position: absolute;border-left: 1px solid gray;box-sizing: border-box;top: 0;bottom: 0;left: 50%;z-index: 0;}#sk-container-id-4 div.sk-serial {display: flex;flex-direction: column;align-items: center;background-color: white;padding-right: 0.2em;padding-left: 0.2em;position: relative;}#sk-container-id-4 div.sk-item {position: relative;z-index: 1;}#sk-container-id-4 div.sk-parallel {display: flex;align-items: stretch;justify-content: center;background-color: white;position: relative;}#sk-container-id-4 div.sk-item::before, #sk-container-id-4 div.sk-parallel-item::before {content: \"\";position: absolute;border-left: 1px solid gray;box-sizing: border-box;top: 0;bottom: 0;left: 50%;z-index: -1;}#sk-container-id-4 div.sk-parallel-item {display: flex;flex-direction: column;z-index: 1;position: relative;background-color: white;}#sk-container-id-4 div.sk-parallel-item:first-child::after {align-self: flex-end;width: 50%;}#sk-container-id-4 div.sk-parallel-item:last-child::after {align-self: flex-start;width: 50%;}#sk-container-id-4 div.sk-parallel-item:only-child::after {width: 0;}#sk-container-id-4 div.sk-dashed-wrapped {border: 1px dashed gray;margin: 0 0.4em 0.5em 0.4em;box-sizing: border-box;padding-bottom: 0.4em;background-color: white;}#sk-container-id-4 div.sk-label label {font-family: monospace;font-weight: bold;display: inline-block;line-height: 1.2em;}#sk-container-id-4 div.sk-label-container {text-align: center;}#sk-container-id-4 div.sk-container {/* jupyter's `normalize.less` sets `[hidden] { display: none; }` but bootstrap.min.css set `[hidden] { display: none !important; }` so we also need the `!important` here to be able to override the default hidden behavior on the sphinx rendered scikit-learn.org. See: https://github.com/scikit-learn/scikit-learn/issues/21755 */display: inline-block !important;position: relative;}#sk-container-id-4 div.sk-text-repr-fallback {display: none;}</style><div id=\"sk-container-id-4\" class=\"sk-top-container\"><div class=\"sk-text-repr-fallback\"><pre>RandomForestClassifier(max_depth=10, n_estimators=500)</pre><b>In a Jupyter environment, please rerun this cell to show the HTML representation or trust the notebook. <br />On GitHub, the HTML representation is unable to render, please try loading this page with nbviewer.org.</b></div><div class=\"sk-container\" hidden><div class=\"sk-item\"><div class=\"sk-estimator sk-toggleable\"><input class=\"sk-toggleable__control sk-hidden--visually\" id=\"sk-estimator-id-8\" type=\"checkbox\" checked><label for=\"sk-estimator-id-8\" class=\"sk-toggleable__label sk-toggleable__label-arrow\">RandomForestClassifier</label><div class=\"sk-toggleable__content\"><pre>RandomForestClassifier(max_depth=10, n_estimators=500)</pre></div></div></div></div></div>"
            ]
          },
          "metadata": {},
          "execution_count": 30
        }
      ]
    },
    {
      "cell_type": "code",
      "source": [
        "# Read the test data set\n",
        "\n",
        "titanictestdata = pd.read_csv(\"test.csv\")\n",
        "testdata = titanictestdata.drop([\"PassengerId\"], axis = 1)"
      ],
      "metadata": {
        "id": "P6LIr_Z79fF8"
      },
      "execution_count": null,
      "outputs": []
    },
    {
      "cell_type": "code",
      "source": [
        "final_test_data = pipeline.fit_transform(testdata)\n",
        "final_test_data.info()"
      ],
      "metadata": {
        "id": "KVZTsH00-SYb",
        "colab": {
          "base_uri": "https://localhost:8080/"
        },
        "outputId": "e669bb24-7c74-410d-f41c-48a7e11cf6c1"
      },
      "execution_count": null,
      "outputs": [
        {
          "output_type": "stream",
          "name": "stdout",
          "text": [
            "<class 'pandas.core.frame.DataFrame'>\n",
            "RangeIndex: 418 entries, 0 to 417\n",
            "Data columns (total 10 columns):\n",
            " #   Column  Non-Null Count  Dtype  \n",
            "---  ------  --------------  -----  \n",
            " 0   Pclass  418 non-null    int64  \n",
            " 1   Age     418 non-null    float64\n",
            " 2   SibSp   418 non-null    int64  \n",
            " 3   Parch   418 non-null    int64  \n",
            " 4   Fare    417 non-null    float64\n",
            " 5   C       418 non-null    float64\n",
            " 6   S       418 non-null    float64\n",
            " 7   Q       418 non-null    float64\n",
            " 8   Female  418 non-null    float64\n",
            " 9   Male    418 non-null    float64\n",
            "dtypes: float64(7), int64(3)\n",
            "memory usage: 32.8 KB\n"
          ]
        }
      ]
    },
    {
      "cell_type": "code",
      "source": [
        "x_final_test = final_test_data\n",
        "x_final_test = x_final_test.fillna(method = \"ffill\")  # filling method is forward filling\n",
        "\n",
        "scaler = StandardScaler()\n",
        "x_data_final_test = scaler.fit_transform(x_final_test)\n",
        "\n",
        "x_final_test.info()\n"
      ],
      "metadata": {
        "colab": {
          "base_uri": "https://localhost:8080/"
        },
        "id": "QF-oeqOp_X3D",
        "outputId": "e75cc6d0-2af5-450e-db1a-a0c2d82f4538"
      },
      "execution_count": null,
      "outputs": [
        {
          "output_type": "stream",
          "name": "stdout",
          "text": [
            "<class 'pandas.core.frame.DataFrame'>\n",
            "RangeIndex: 418 entries, 0 to 417\n",
            "Data columns (total 10 columns):\n",
            " #   Column  Non-Null Count  Dtype  \n",
            "---  ------  --------------  -----  \n",
            " 0   Pclass  418 non-null    int64  \n",
            " 1   Age     418 non-null    float64\n",
            " 2   SibSp   418 non-null    int64  \n",
            " 3   Parch   418 non-null    int64  \n",
            " 4   Fare    418 non-null    float64\n",
            " 5   C       418 non-null    float64\n",
            " 6   S       418 non-null    float64\n",
            " 7   Q       418 non-null    float64\n",
            " 8   Female  418 non-null    float64\n",
            " 9   Male    418 non-null    float64\n",
            "dtypes: float64(7), int64(3)\n",
            "memory usage: 32.8 KB\n"
          ]
        }
      ]
    },
    {
      "cell_type": "code",
      "source": [
        "predictions = prod_final_clf.predict(x_data_final_test)\n",
        "final_df = prod_final_clf.predict(x_data_final_test)"
      ],
      "metadata": {
        "id": "jmMllnSW_5Ww"
      },
      "execution_count": null,
      "outputs": []
    },
    {
      "cell_type": "code",
      "source": [
        "final_df = pd.DataFrame(titanictestdata['PassengerId'])\n",
        "final_df['Survived'] = predictions\n",
        "\n",
        "final_df.to_csv(\"predictions 03.csv\", index = False)"
      ],
      "metadata": {
        "id": "xjs4uIOoBzQy"
      },
      "execution_count": null,
      "outputs": []
    },
    {
      "cell_type": "code",
      "source": [
        "# titanicdata -> train data set\n",
        "# final_test_data -> test data set"
      ],
      "metadata": {
        "id": "PwFUOVUyWYCq"
      },
      "execution_count": null,
      "outputs": []
    },
    {
      "cell_type": "markdown",
      "source": [
        "# **Titanic Prediction using Keras - Deep Neural Network**"
      ],
      "metadata": {
        "id": "lF5yrLkF0cus"
      }
    },
    {
      "cell_type": "code",
      "source": [
        "from keras.models import Sequential\n",
        "from keras.layers import Dense, Dropout\n",
        "import matplotlib.pyplot as plt\n",
        "import numpy as np"
      ],
      "metadata": {
        "id": "EHyzws5k0sXn"
      },
      "execution_count": null,
      "outputs": []
    },
    {
      "cell_type": "code",
      "source": [
        "# model = Sequential()\n",
        "# model.add(Dense(32, activation = 'relu', input_shape=(10, )))\n",
        "# model.add(Dropout(rate = 0.2))\n",
        "# model.add(Dense(32, activation = 'relu'))\n",
        "# model.add(Dropout(rate = 0.2))\n",
        "# model.add(Dense(5, activation = 'relu'))\n",
        "# model.add(Dropout(rate = 0.2))\n",
        "# model.add(Dense(1, activation = 'sigmoid'))\n",
        "\n",
        "# model.compile(optimizer = 'adam', loss = 'binary_crossentropy', metrics =['accuracy'])\n",
        "\n",
        "# model_train = model.fit(x_data_final_df, y_data_final_df, epochs = 200,batch_size = 1, verbose = 0, validation_split = 0.2)\n",
        "\n",
        "# plt.plot(model_train.history['accuracy'],label = \"train\")\n",
        "# plt.plot(model_train.history['val_accuracy'], label = \"test\")\n",
        "# plt.title(\"Model Accuracy\")\n",
        "# plt.xlabel(\"Epoch number\")\n",
        "# plt.ylabel(\"Accuracy\")\n",
        "# plt.legend(loc='lower right')\n",
        "# plt.show()"
      ],
      "metadata": {
        "id": "osp86B_-Wgg3"
      },
      "execution_count": null,
      "outputs": []
    },
    {
      "cell_type": "code",
      "source": [
        "\n",
        "# # Define a list of values for epoch, batch_size, and verbose\n",
        "# epochs_list = [50, 100, 150, 200]\n",
        "# batch_sizes_list = [1, 16, 32, 64]\n",
        "# verboses_list = [0, 1, 2]\n",
        "\n",
        "# # Initialize variables to store best configuration and accuracy\n",
        "# best_epoch = None\n",
        "# best_batch_size = None\n",
        "# best_verbose = None\n",
        "# best_accuracy = 0.0\n",
        "\n",
        "# # Initialize variables to store train and validation accuracy history for best configuration\n",
        "# best_train_accuracy_history = None\n",
        "# best_val_accuracy_history = None\n",
        "\n",
        "# # Iterate through all combinations of epoch, batch_size, and verbose\n",
        "# for epochs in epochs_list:\n",
        "#     for batch_size in batch_sizes_list:\n",
        "#         for verbose in verboses_list:\n",
        "#             # Create and compile the model\n",
        "#             model = Sequential()\n",
        "#             model.add(Dense(32, activation='relu', input_shape=(10,)))\n",
        "#             model.add(Dense(32, activation='relu'))\n",
        "#             model.add(Dense(5, activation='relu'))\n",
        "#             model.add(Dense(1, activation='sigmoid'))\n",
        "#             model.compile(optimizer='adam', loss='binary_crossentropy', metrics=['accuracy'])\n",
        "\n",
        "#             # Fit the model and get accuracy\n",
        "#             model_train = model.fit(x_data_final_df, y_data_final_df, epochs=epochs, batch_size=batch_size, verbose=verbose, validation_split=0.2)\n",
        "#             accuracy = max(model_train.history['val_accuracy'])\n",
        "\n",
        "#             # Update best configuration and accuracy if necessary\n",
        "#             if accuracy > best_accuracy:\n",
        "#                 best_epoch = epochs\n",
        "#                 best_batch_size = batch_size\n",
        "#                 best_verbose = verbose\n",
        "#                 best_accuracy = accuracy\n",
        "#                 best_train_accuracy_history = model_train.history['accuracy']\n",
        "#                 best_val_accuracy_history = model_train.history['val_accuracy']\n",
        "\n",
        "# # Print the best configuration and accuracy\n",
        "# print(\"Best Epoch: \", best_epoch)\n",
        "# print(\"Best Batch Size: \", best_batch_size)\n",
        "# print(\"Best Verbose: \", best_verbose)\n",
        "# print(\"Best Accuracy: \", best_accuracy)\n",
        "\n",
        "# # Plot the accuracy curves for train and test data using the best configuration\n",
        "# plt.plot(best_train_accuracy_history, label=\"train\")\n",
        "# plt.plot(best_val_accuracy_history, label=\"test\")\n",
        "# plt.title(\"Model Accuracy\")\n",
        "# plt.xlabel(\"Epoch number\")\n",
        "# plt.ylabel(\"Accuracy\")\n",
        "# plt.legend(loc='lower right')\n",
        "# plt.show()\n",
        "\n",
        "\n"
      ],
      "metadata": {
        "id": "R_1ufZxf8zQl"
      },
      "execution_count": null,
      "outputs": []
    },
    {
      "cell_type": "code",
      "source": [
        "import numpy as np\n",
        "from keras.models import Sequential\n",
        "from keras.layers import Dense\n",
        "from keras.wrappers.scikit_learn import KerasClassifier\n",
        "from sklearn.model_selection import GridSearchCV\n",
        "import matplotlib.pyplot as plt\n",
        "\n",
        "\n",
        "# Define the create_model function to create the model with given hyperparameter values\n",
        "def create_model(epochs, batch_size):\n",
        "    model = Sequential()\n",
        "    model.add(Dense(32, activation='relu', input_shape=(10,)))\n",
        "    model.add(Dense(64, activation='relu'))\n",
        "    model.add(Dense(128, activation='relu'))\n",
        "    model.add(Dense(64, activation='relu'))\n",
        "    model.add(Dense(32, activation='relu'))\n",
        "    model.add(Dense(1, activation='sigmoid'))\n",
        "    model.compile(optimizer='adam', loss='binary_crossentropy', metrics=['accuracy'])\n",
        "    return model\n",
        "\n",
        "# Create an instance of KerasClassifier with create_model as the model-building function\n",
        "model = KerasClassifier(build_fn=create_model)\n",
        "\n",
        "# Define the hyperparameter grid for search\n",
        "param_grid = {\n",
        "    'epochs': [30],\n",
        "    'batch_size': [60],\n",
        "}\n",
        "\n",
        "# Create an instance of GridSearchCV\n",
        "  grid = GridSearchCV(estimator=model, param_grid=param_grid, cv=2)\n",
        "\n",
        "# Fit the grid search to the data\n",
        "grid_result = grid.fit(x_data_final_df, y_data_final_df)\n",
        "\n",
        "# Get the best configuration and accuracy\n",
        "best_epoch = grid_result.best_params_['epochs']\n",
        "best_batch_size = grid_result.best_params_['batch_size']\n",
        "best_accuracy = grid_result.best_score_\n",
        "\n",
        "# Print the best configuration and accuracy\n",
        "print(\"Best Epoch: \", best_epoch)\n",
        "print(\"Best Batch Size: \", best_batch_size)\n",
        "print(\"Best Accuracy: \", best_accuracy)\n",
        "\n",
        "# Plot the accuracy curves for train and test data using the best configuration\n",
        "best_model = create_model(best_epoch, best_batch_size)\n",
        "model_train = best_model.fit(x_data_final_df, y_data_final_df, epochs=best_epoch, batch_size=best_batch_size, verbose= 0, validation_split=0.10)\n",
        "plt.plot(model_train.history['accuracy'], label=\"train\")\n",
        "plt.plot(model_train.history['val_accuracy'], label=\"test\")\n",
        "plt.title(\"Model Accuracy\")\n",
        "plt.xlabel(\"Epoch number\")\n",
        "plt.ylabel(\"Accuracy\")\n",
        "plt.legend(loc='lower right')\n",
        "plt.show()\n"
      ],
      "metadata": {
        "id": "_cUXyVA5DRvt",
        "colab": {
          "base_uri": "https://localhost:8080/",
          "height": 1000
        },
        "outputId": "14742785-6d5d-49b7-e165-d72db335bb19"
      },
      "execution_count": null,
      "outputs": [
        {
          "output_type": "stream",
          "name": "stderr",
          "text": [
            "<ipython-input-74-b27254f0271e>:22: DeprecationWarning: KerasClassifier is deprecated, use Sci-Keras (https://github.com/adriangb/scikeras) instead. See https://www.adriangb.com/scikeras/stable/migration.html for help migrating.\n",
            "  model = KerasClassifier(build_fn=create_model)\n"
          ]
        },
        {
          "output_type": "stream",
          "name": "stdout",
          "text": [
            "Epoch 1/30\n",
            "8/8 [==============================] - 3s 9ms/step - loss: 0.6728 - accuracy: 0.5775\n",
            "Epoch 2/30\n",
            "8/8 [==============================] - 0s 6ms/step - loss: 0.5812 - accuracy: 0.7933\n",
            "Epoch 3/30\n",
            "8/8 [==============================] - 0s 6ms/step - loss: 0.4940 - accuracy: 0.8045\n",
            "Epoch 4/30\n",
            "8/8 [==============================] - 0s 6ms/step - loss: 0.4308 - accuracy: 0.8135\n",
            "Epoch 5/30\n",
            "8/8 [==============================] - 0s 6ms/step - loss: 0.4070 - accuracy: 0.8180\n",
            "Epoch 6/30\n",
            "8/8 [==============================] - 0s 7ms/step - loss: 0.3909 - accuracy: 0.8180\n",
            "Epoch 7/30\n",
            "8/8 [==============================] - 0s 6ms/step - loss: 0.3741 - accuracy: 0.8337\n",
            "Epoch 8/30\n",
            "8/8 [==============================] - 0s 7ms/step - loss: 0.3616 - accuracy: 0.8449\n",
            "Epoch 9/30\n",
            "8/8 [==============================] - 0s 6ms/step - loss: 0.3553 - accuracy: 0.8427\n",
            "Epoch 10/30\n",
            "8/8 [==============================] - 0s 6ms/step - loss: 0.3476 - accuracy: 0.8494\n",
            "Epoch 11/30\n",
            "8/8 [==============================] - 0s 6ms/step - loss: 0.3389 - accuracy: 0.8449\n",
            "Epoch 12/30\n",
            "8/8 [==============================] - 0s 8ms/step - loss: 0.3256 - accuracy: 0.8539\n",
            "Epoch 13/30\n",
            "8/8 [==============================] - 0s 6ms/step - loss: 0.3199 - accuracy: 0.8607\n",
            "Epoch 14/30\n",
            "8/8 [==============================] - 0s 6ms/step - loss: 0.3122 - accuracy: 0.8584\n",
            "Epoch 15/30\n",
            "8/8 [==============================] - 0s 6ms/step - loss: 0.3074 - accuracy: 0.8629\n",
            "Epoch 16/30\n",
            "8/8 [==============================] - 0s 7ms/step - loss: 0.2967 - accuracy: 0.8674\n",
            "Epoch 17/30\n",
            "8/8 [==============================] - 0s 5ms/step - loss: 0.2956 - accuracy: 0.8787\n",
            "Epoch 18/30\n",
            "8/8 [==============================] - 0s 6ms/step - loss: 0.2915 - accuracy: 0.8719\n",
            "Epoch 19/30\n",
            "8/8 [==============================] - 0s 9ms/step - loss: 0.2825 - accuracy: 0.8719\n",
            "Epoch 20/30\n",
            "8/8 [==============================] - 0s 6ms/step - loss: 0.2820 - accuracy: 0.8652\n",
            "Epoch 21/30\n",
            "8/8 [==============================] - 0s 6ms/step - loss: 0.2803 - accuracy: 0.8652\n",
            "Epoch 22/30\n",
            "8/8 [==============================] - 0s 6ms/step - loss: 0.2702 - accuracy: 0.8944\n",
            "Epoch 23/30\n",
            "8/8 [==============================] - 0s 7ms/step - loss: 0.2718 - accuracy: 0.8787\n",
            "Epoch 24/30\n",
            "8/8 [==============================] - 0s 6ms/step - loss: 0.2625 - accuracy: 0.8854\n",
            "Epoch 25/30\n",
            "8/8 [==============================] - 0s 6ms/step - loss: 0.2627 - accuracy: 0.8876\n",
            "Epoch 26/30\n",
            "8/8 [==============================] - 0s 7ms/step - loss: 0.2591 - accuracy: 0.8899\n",
            "Epoch 27/30\n",
            "8/8 [==============================] - 0s 6ms/step - loss: 0.2548 - accuracy: 0.8966\n",
            "Epoch 28/30\n",
            "8/8 [==============================] - 0s 7ms/step - loss: 0.2513 - accuracy: 0.9011\n",
            "Epoch 29/30\n",
            "8/8 [==============================] - 0s 6ms/step - loss: 0.2510 - accuracy: 0.8989\n",
            "Epoch 30/30\n",
            "8/8 [==============================] - 0s 6ms/step - loss: 0.2568 - accuracy: 0.8831\n",
            "8/8 [==============================] - 0s 3ms/step - loss: 0.6121 - accuracy: 0.7713\n",
            "Epoch 1/30\n",
            "8/8 [==============================] - 1s 4ms/step - loss: 0.6826 - accuracy: 0.6031\n",
            "Epoch 2/30\n",
            "8/8 [==============================] - 0s 4ms/step - loss: 0.6259 - accuracy: 0.7601\n",
            "Epoch 3/30\n",
            "8/8 [==============================] - 0s 4ms/step - loss: 0.5522 - accuracy: 0.7960\n",
            "Epoch 4/30\n",
            "8/8 [==============================] - 0s 5ms/step - loss: 0.4809 - accuracy: 0.7982\n",
            "Epoch 5/30\n",
            "8/8 [==============================] - 0s 4ms/step - loss: 0.4531 - accuracy: 0.8094\n",
            "Epoch 6/30\n",
            "8/8 [==============================] - 0s 5ms/step - loss: 0.4351 - accuracy: 0.8206\n",
            "Epoch 7/30\n",
            "8/8 [==============================] - 0s 4ms/step - loss: 0.4190 - accuracy: 0.8251\n",
            "Epoch 8/30\n",
            "8/8 [==============================] - 0s 4ms/step - loss: 0.4075 - accuracy: 0.8318\n",
            "Epoch 9/30\n",
            "8/8 [==============================] - 0s 5ms/step - loss: 0.3995 - accuracy: 0.8341\n",
            "Epoch 10/30\n",
            "8/8 [==============================] - 0s 5ms/step - loss: 0.3959 - accuracy: 0.8386\n",
            "Epoch 11/30\n",
            "8/8 [==============================] - 0s 5ms/step - loss: 0.3856 - accuracy: 0.8363\n",
            "Epoch 12/30\n",
            "8/8 [==============================] - 0s 4ms/step - loss: 0.3818 - accuracy: 0.8453\n",
            "Epoch 13/30\n",
            "8/8 [==============================] - 0s 5ms/step - loss: 0.3769 - accuracy: 0.8430\n",
            "Epoch 14/30\n",
            "8/8 [==============================] - 0s 5ms/step - loss: 0.3755 - accuracy: 0.8408\n",
            "Epoch 15/30\n",
            "8/8 [==============================] - 0s 4ms/step - loss: 0.3701 - accuracy: 0.8386\n",
            "Epoch 16/30\n",
            "8/8 [==============================] - 0s 4ms/step - loss: 0.3644 - accuracy: 0.8520\n",
            "Epoch 17/30\n",
            "8/8 [==============================] - 0s 5ms/step - loss: 0.3610 - accuracy: 0.8475\n",
            "Epoch 18/30\n",
            "8/8 [==============================] - 0s 4ms/step - loss: 0.3561 - accuracy: 0.8565\n",
            "Epoch 19/30\n",
            "8/8 [==============================] - 0s 5ms/step - loss: 0.3561 - accuracy: 0.8565\n",
            "Epoch 20/30\n",
            "8/8 [==============================] - 0s 5ms/step - loss: 0.3527 - accuracy: 0.8565\n",
            "Epoch 21/30\n",
            "8/8 [==============================] - 0s 5ms/step - loss: 0.3499 - accuracy: 0.8520\n",
            "Epoch 22/30\n",
            "8/8 [==============================] - 0s 4ms/step - loss: 0.3467 - accuracy: 0.8610\n",
            "Epoch 23/30\n",
            "8/8 [==============================] - 0s 4ms/step - loss: 0.3414 - accuracy: 0.8565\n",
            "Epoch 24/30\n",
            "8/8 [==============================] - 0s 4ms/step - loss: 0.3367 - accuracy: 0.8587\n",
            "Epoch 25/30\n",
            "8/8 [==============================] - 0s 4ms/step - loss: 0.3320 - accuracy: 0.8677\n",
            "Epoch 26/30\n",
            "8/8 [==============================] - 0s 4ms/step - loss: 0.3304 - accuracy: 0.8700\n",
            "Epoch 27/30\n",
            "8/8 [==============================] - 0s 4ms/step - loss: 0.3288 - accuracy: 0.8587\n",
            "Epoch 28/30\n",
            "8/8 [==============================] - 0s 4ms/step - loss: 0.3250 - accuracy: 0.8632\n",
            "Epoch 29/30\n",
            "8/8 [==============================] - 0s 4ms/step - loss: 0.3232 - accuracy: 0.8677\n",
            "Epoch 30/30\n",
            "8/8 [==============================] - 0s 4ms/step - loss: 0.3207 - accuracy: 0.8655\n",
            "8/8 [==============================] - 0s 3ms/step - loss: 0.5158 - accuracy: 0.8067\n",
            "Epoch 1/30\n",
            "15/15 [==============================] - 3s 9ms/step - loss: 0.5865 - accuracy: 0.7823\n",
            "Epoch 2/30\n",
            "15/15 [==============================] - 0s 6ms/step - loss: 0.4627 - accuracy: 0.8036\n",
            "Epoch 3/30\n",
            "15/15 [==============================] - 0s 8ms/step - loss: 0.4325 - accuracy: 0.8204\n",
            "Epoch 4/30\n",
            "15/15 [==============================] - 0s 6ms/step - loss: 0.4297 - accuracy: 0.8137\n",
            "Epoch 5/30\n",
            "15/15 [==============================] - 0s 6ms/step - loss: 0.4177 - accuracy: 0.8204\n",
            "Epoch 6/30\n",
            "15/15 [==============================] - 0s 9ms/step - loss: 0.4070 - accuracy: 0.8339\n",
            "Epoch 7/30\n",
            "15/15 [==============================] - 0s 8ms/step - loss: 0.4032 - accuracy: 0.8227\n",
            "Epoch 8/30\n",
            "15/15 [==============================] - 0s 12ms/step - loss: 0.4036 - accuracy: 0.8238\n",
            "Epoch 9/30\n",
            "15/15 [==============================] - 0s 15ms/step - loss: 0.3960 - accuracy: 0.8373\n",
            "Epoch 10/30\n",
            "15/15 [==============================] - 0s 10ms/step - loss: 0.3914 - accuracy: 0.8305\n",
            "Epoch 11/30\n",
            "15/15 [==============================] - 0s 13ms/step - loss: 0.3844 - accuracy: 0.8350\n",
            "Epoch 12/30\n",
            "15/15 [==============================] - 0s 11ms/step - loss: 0.3815 - accuracy: 0.8418\n",
            "Epoch 13/30\n",
            "15/15 [==============================] - 0s 12ms/step - loss: 0.3781 - accuracy: 0.8395\n",
            "Epoch 14/30\n",
            "15/15 [==============================] - 0s 9ms/step - loss: 0.3742 - accuracy: 0.8406\n",
            "Epoch 15/30\n",
            "15/15 [==============================] - 0s 13ms/step - loss: 0.3762 - accuracy: 0.8418\n",
            "Epoch 16/30\n",
            "15/15 [==============================] - 0s 7ms/step - loss: 0.3841 - accuracy: 0.8339\n",
            "Epoch 17/30\n",
            "15/15 [==============================] - 0s 10ms/step - loss: 0.3714 - accuracy: 0.8451\n",
            "Epoch 18/30\n",
            "15/15 [==============================] - 0s 16ms/step - loss: 0.3639 - accuracy: 0.8418\n",
            "Epoch 19/30\n",
            "15/15 [==============================] - 0s 12ms/step - loss: 0.3587 - accuracy: 0.8395\n",
            "Epoch 20/30\n",
            "15/15 [==============================] - 0s 10ms/step - loss: 0.3623 - accuracy: 0.8373\n",
            "Epoch 21/30\n",
            "15/15 [==============================] - 0s 9ms/step - loss: 0.3525 - accuracy: 0.8429\n",
            "Epoch 22/30\n",
            "15/15 [==============================] - 0s 10ms/step - loss: 0.3527 - accuracy: 0.8507\n",
            "Epoch 23/30\n",
            "15/15 [==============================] - 0s 11ms/step - loss: 0.3515 - accuracy: 0.8485\n",
            "Epoch 24/30\n",
            "15/15 [==============================] - 0s 14ms/step - loss: 0.3558 - accuracy: 0.8451\n",
            "Epoch 25/30\n",
            "15/15 [==============================] - 0s 12ms/step - loss: 0.3465 - accuracy: 0.8541\n",
            "Epoch 26/30\n",
            "15/15 [==============================] - 0s 10ms/step - loss: 0.3400 - accuracy: 0.8530\n",
            "Epoch 27/30\n",
            "15/15 [==============================] - 0s 12ms/step - loss: 0.3386 - accuracy: 0.8541\n",
            "Epoch 28/30\n",
            "15/15 [==============================] - 0s 10ms/step - loss: 0.3412 - accuracy: 0.8541\n",
            "Epoch 29/30\n",
            "15/15 [==============================] - 0s 13ms/step - loss: 0.3356 - accuracy: 0.8586\n",
            "Epoch 30/30\n",
            "15/15 [==============================] - 0s 11ms/step - loss: 0.3328 - accuracy: 0.8530\n",
            "Best Epoch:  30\n",
            "Best Batch Size:  60\n",
            "Best Accuracy:  0.7890210151672363\n"
          ]
        },
        {
          "output_type": "display_data",
          "data": {
            "text/plain": [
              "<Figure size 640x480 with 1 Axes>"
            ],
            "image/png": "[encoded data removed]"
          },
          "metadata": {}
        }
      ]
    },
    {
      "cell_type": "code",
      "source": [
        "# model evaluation from the test data\n",
        "\n",
        "x_data_final_test_df = pd.DataFrame(x_data_final_test)\n",
        "\n",
        "predictionAnn = best_model.predict(x_data_final_test_df)\n",
        "predictionAnn_df = predictionAnn\n",
        "\n",
        "predictionAnn_df = pd.DataFrame(titanictestdata['PassengerId'])\n",
        "predictionAnn_df[\"Survived\"] = predictionAnn\n",
        "\n",
        "# save the final result to the csv file data\n",
        "\n",
        "# predictionAnn_df.to_csv(\"predictionANN05.csv\", index = False)"
      ],
      "metadata": {
        "id": "NJNRTYV4ZpxK",
        "colab": {
          "base_uri": "https://localhost:8080/"
        },
        "outputId": "fd2c5b8d-2fbe-416e-88e5-db096191b20b"
      },
      "execution_count": null,
      "outputs": [
        {
          "output_type": "stream",
          "name": "stdout",
          "text": [
            "14/14 [==============================] - 0s 2ms/step\n"
          ]
        }
      ]
    },
    {
      "cell_type": "code",
      "source": [
        "predictionAnn_df['Survived'] = np.where(predictionAnn_df['Survived'] >=0.5 , 1,0)\n",
        "predictionAnn_df.to_csv(\"predictionANN_10.csv\", index = False)\n"
      ],
      "metadata": {
        "id": "2Fy0qV3B1W5L"
      },
      "execution_count": null,
      "outputs": []
    }
  ]
}